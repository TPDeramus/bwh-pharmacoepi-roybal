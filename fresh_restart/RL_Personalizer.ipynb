{
 "cells": [
  {
   "cell_type": "markdown",
   "metadata": {},
   "source": [
    "## Reinforcement Learning for SMS Messaging to Improve Medication Adherence - Roybal"
   ]
  },
  {
   "cell_type": "code",
   "execution_count": 2,
   "metadata": {
    "pycharm": {
     "name": "#%%\n"
    }
   },
   "outputs": [],
   "source": [
    "import sys\n",
    "import time\n",
    "import dateutil\n",
    "from azure.cognitiveservices.personalizer import PersonalizerClient\n",
    "from azure.cognitiveservices.personalizer.models import RankRequest\n",
    "from msrest.authentication import CognitiveServicesCredentials\n",
    "import pandas as pd\n",
    "import numpy as np\n",
    "import math\n",
    "import time\n",
    "from datetime import datetime\n",
    "from collections import Counter\n",
    "import string\n",
    "import pickle\n",
    "import json\n",
    "import pytz\n",
    "import os"
   ]
  },
  {
   "cell_type": "code",
   "execution_count": 3,
   "metadata": {
    "pycharm": {
     "name": "#%%\n"
    }
   },
   "outputs": [],
   "source": [
    "from fresh_restart.patient_data import import_pt_data,export_pt_data\n",
    "from fresh_restart.pillsy_parser import import_Pillsy, find_rewards\n",
    "from fresh_restart.driverReward import get_reward_update,send_rewards\n",
    "from fresh_restart.redcap_parser import import_redcap, update_pt_data_with_redcap\n",
    "from fresh_restart.driverRank import run_ranking, write_sms_history\n",
    "from fresh_restart.control_disconnection import check_control_disconnectedness"
   ]
  },
  {
   "cell_type": "markdown",
   "metadata": {},
   "source": [
    "### Start Program Timer"
   ]
  },
  {
   "cell_type": "code",
   "execution_count": null,
   "metadata": {
    "pycharm": {
     "name": "#%%\n"
    }
   },
   "outputs": [],
   "source": [
    "run_time = datetime.now()\n",
    "testing_flag = input(\"Testing with another date? y/n: \")\n",
    "if testing_flag.lower() == \"y\":\n",
    "    print(\"Set testing run time: \")\n",
    "    run_time_yyyy_mm_dd_input = input(\"Enter the testing date: YYYY-MM-DD \")\n",
    "    timestamp = \"10:30 AM \" + run_time_yyyy_mm_dd_input\n",
    "    run_time = dateutil.parser.parse(timestamp)\n",
    "run_time = pytz.timezone(\"America/New_York\").localize(run_time)"
   ]
  },
  {
   "cell_type": "code",
   "execution_count": null,
   "metadata": {
    "pycharm": {
     "name": "#%%\n"
    }
   },
   "outputs": [],
   "source": [
    "run_time"
   ]
  },
  {
   "cell_type": "markdown",
   "metadata": {},
   "source": [
    "### Set Up MS Azure Personalizer Client\n",
    "\n",
    "Defining and Instantiating a Personalizer Client:\n",
    "\n",
    "Personalizer Keys:\n",
    "* In the Microsoft Azure Dashboard, navigate to our bwh-pharmacoepi-roybal-dev-use2-cog Cognitive Services page.\n",
    "* Within the Keys and Endpoint section, copy either Key 1 or Key 2 to enter as the Personalizer Key.\n",
    "\n",
    "Personalizer Endpoint:\n",
    "* https://bwh-pharmacoepi-roybal-dev-use2-cog.cognitiveservices.azure.com/"
   ]
  },
  {
   "cell_type": "code",
   "execution_count": null,
   "metadata": {
    "pycharm": {
     "name": "#%%\n"
    }
   },
   "outputs": [],
   "source": [
    "## TODO make this a relative path that works for both our machines\n",
    "personalizer_path = input(\"ENTER FILEPATH TO PERSONALIZER KEY: \\n\")\n",
    "with open(personalizer_path, 'r') as f:\n",
    "     personalizer_key = f.read()\n",
    "personalizer_endpoint = \"https://bwh-pharmacoepi-roybal-dev-use2-cog.cognitiveservices.azure.com/\"\n",
    "client = PersonalizerClient(personalizer_endpoint, CognitiveServicesCredentials(personalizer_key))"
   ]
  },
  {
   "cell_type": "markdown",
   "metadata": {},
   "source": [
    "## Reward Step\n",
    "\n",
    "If we've already initiated the trial, we will have:\n",
    "* Pre-existing patient dataset in need of reward updates\n",
    "* Pillsy data from yesterday to determine reward\n",
    "If this is study initiation, this step will just load an empty patient dictionary and null pillsy dataset."
   ]
  },
  {
   "cell_type": "code",
   "execution_count": null,
   "metadata": {
    "pycharm": {
     "name": "#%%\n"
    }
   },
   "outputs": [],
   "source": [
    "pt_data = import_pt_data(run_time)\n",
    "new_pillsy_data = import_Pillsy(run_time)\n",
    "\n",
    "if pt_data and new_pillsy_data:\n",
    "\n",
    "    # From Pillsy data, computes the Rewards to send to Personalizer for each patient's Rank calls from yesterday's run.\n",
    "    find_rewards(new_pillsy_data, pt_data, run_time)\n",
    "\n",
    "    # using updated patient data (new pillsy + patient data), format the rewards to Personalizer into a dataframe\n",
    "    rewards_to_send = get_reward_update(pt_data, run_time)\n",
    "\n",
    "    # actual call to personalizer\n",
    "    send_rewards(rewards_to_send, client, run_time)\n",
    "\n",
    "export_pt_data(pt_data, \"reward\", run_time)"
   ]
  },
  {
   "cell_type": "markdown",
   "metadata": {},
   "source": [
    "## Import/Update Patients"
   ]
  },
  {
   "cell_type": "code",
   "execution_count": null,
   "metadata": {
    "pycharm": {
     "name": "#%%\n"
    }
   },
   "outputs": [],
   "source": [
    "redcap_data = import_redcap(run_time)\n",
    "pt_data = update_pt_data_with_redcap(redcap_data, pt_data, run_time)"
   ]
  },
  {
   "cell_type": "code",
   "execution_count": null,
   "metadata": {
    "pycharm": {
     "name": "#%%\n"
    }
   },
   "outputs": [],
   "source": [
    "# testing import_redcap\n",
    "run_time_redcaptest = run_time\n",
    "\n",
    "import_date = run_time_redcaptest.date()\n",
    "# Imports REDCap patients that are enrolling on an ongoing basis as a pandas data frame from a CSV\n",
    "redcap_filepath = str(import_date) + \"_redcap\" + '.csv'\n",
    "fp = os.path.join(\"..\", \"..\", \"REDCap\", redcap_filepath)\n",
    "date_cols = [\"start_date\"]\n",
    "redcap = pd.read_csv(fp, sep=',', parse_dates=date_cols)\n",
    "redcap = redcap_vars_converter(redcap)\n",
    "\n",
    "redcap\n",
    "print(os.getcwd())\n",
    "print(os.path.abspath(fp))\n",
    "\n",
    "\n",
    "\n",
    "# run_time ="
   ]
  },
  {
   "cell_type": "code",
   "execution_count": null,
   "metadata": {
    "pycharm": {
     "name": "#%%\n"
    }
   },
   "outputs": [],
   "source": [
    "import_date = run_time.date()\n",
    "# Imports REDCap patients that are enrolling on an ongoing basis as a pandas data frame from a CSV\n",
    "redcap_filepath = str(import_date) + \"_redcap\" + '.csv'\n",
    "fp = os.path.join(\"..\", \"..\", \"REDCap\", redcap_filepath)\n",
    "date_cols = [\"start_date\"]"
   ]
  },
  {
   "cell_type": "markdown",
   "metadata": {},
   "source": [
    "## Rank Step\n",
    "Call Personalizer to rank action features to find the correct text message to send today."
   ]
  },
  {
   "cell_type": "code",
   "execution_count": null,
   "metadata": {
    "pycharm": {
     "name": "#%%\n"
    }
   },
   "outputs": [],
   "source": [
    "for index, patient in pt_data.iterrows():\n",
    "    if patient[\"censor\"] != 1 and patient[\"censor_date\"] > run_time.date():\n",
    "        run_ranking(patient, client, run_time)\n",
    "        #need checks if pass by ref or val\n",
    "export_pt_data(pt_data, \"rank\", run_time) # log"
   ]
  },
  {
   "cell_type": "markdown",
   "metadata": {},
   "source": [
    "## Output SMS and Patient Data"
   ]
  },
  {
   "cell_type": "code",
   "execution_count": null,
   "metadata": {
    "pycharm": {
     "name": "#%%\n"
    }
   },
   "outputs": [],
   "source": [
    "write_sms_history(pt_data, run_time)\n",
    "export_pt_data(pt_data, \"final\", run_time) # input for tomorrow\n",
    "check_control_disconnectedness(run_time) # check whether controls have connection problems"
   ]
  },
  {
   "cell_type": "markdown",
   "metadata": {},
   "source": [
    "To Do List:\n",
    "  * Executability by RA / User friendliness\n",
    "    * [x] - Lily done by using Jupyter notebook - Making this more user friendly than a  Command Line\n",
    "    * [ ] - JOE TODO / help brainstorm - make jupyter notebook pretty and write a how to document for new non CS person to be able to execute this from Jupyter notebook\n",
    "    * [ ] - JOE TODO / help brainstorm - Making this more user friendly than a Jupyter Notebook - to do by doing a main.py executable bash script\n",
    "    * [ ] - JOE TODO / help brainstorm - Hooks into Pillsy/RedCap for data retrieval - need check in with constance for pillsy and ellen for redcap\n",
    "    * [ ] - JOE TODO / help brainstorm - (probably not feasible) Hooks into SMS Platform to automate text sending - need check in with constance\n",
    "    * [ ] - JOE TODO / help brainstorm - how to handle the definite 1 human entered variable of personalizer key - file to direct to or? - maybe as marco/elad\n",
    "    * [ ] - Lily/JOE TODO / help - try to break this code in any way possible\n",
    "    * [ ] - Lily/JOE TODO / help - debug, unit testing\n",
    "    * [ ] - Lily/JOE TODO / help - run it fully several times based in dropbox together\n",
    "    * [ ] - Lily/JOE TODO / help - Make a log file that will report high level information from running this like a run summary\n",
    "        * elements to include:\n",
    "            * start and end time of the run\n",
    "            * how many patients were read in from each import statement\n",
    "            * how many reward calls were successfull made\n",
    "            * how many rank calls were successfull made\n",
    "            * any other meta data that will help us debug and ensure this is all working as planned\n",
    "\n",
    "\n"
   ]
  }
 ],
 "metadata": {
  "kernelspec": {
   "display_name": "Python 3",
   "language": "python",
   "name": "python3"
  },
  "language_info": {
   "codemirror_mode": {
    "name": "ipython",
    "version": 3
   },
   "file_extension": ".py",
   "mimetype": "text/x-python",
   "name": "python",
   "nbconvert_exporter": "python",
   "pygments_lexer": "ipython3",
   "version": "3.7.7"
  }
 },
 "nbformat": 4,
 "nbformat_minor": 1
}
