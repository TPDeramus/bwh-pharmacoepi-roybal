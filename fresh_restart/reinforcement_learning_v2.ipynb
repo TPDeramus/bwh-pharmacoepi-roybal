{
 "cells": [
  {
   "cell_type": "markdown",
   "metadata": {},
   "source": [
    "## Reinforcement Learning for SMS Messaging to Improve Medication Adherence - Roybal"
   ]
  },
  {
   "cell_type": "code",
   "execution_count": 27,
   "metadata": {},
   "outputs": [],
   "source": [
    "import sys\n",
    "import time\n",
    "import dateutil\n",
    "from azure.cognitiveservices.personalizer import PersonalizerClient\n",
    "from azure.cognitiveservices.personalizer.models import RankRequest\n",
    "from msrest.authentication import CognitiveServicesCredentials\n",
    "import pandas as pd\n",
    "import numpy as np\n",
    "import math\n",
    "import time\n",
    "from datetime import datetime\n",
    "from collections import Counter\n",
    "import string\n",
    "import pickle\n",
    "import json\n",
    "import pytz\n",
    "import os"
   ]
  },
  {
   "cell_type": "code",
   "execution_count": 11,
   "metadata": {
    "pycharm": {
     "name": "#%%\n"
    }
   },
   "outputs": [],
   "source": [
    "from fresh_restart.patient_data import import_pt_data,export_pt_data\n",
    "from fresh_restart.pillsy_parser import import_Pillsy, find_rewards\n",
    "from fresh_restart.driverReward import get_reward_update,send_rewards\n",
    "from fresh_restart.redcap_parser import import_redcap, update_pt_data_with_redcap\n",
    "from fresh_restart.driverRank import run_ranking, write_sms_history\n",
    "from fresh_restart.control_disconnection import check_control_disconnectedness"
   ]
  },
  {
   "cell_type": "markdown",
   "metadata": {},
   "source": [
    "### Start Program Timer"
   ]
  },
  {
   "cell_type": "code",
   "execution_count": 24,
   "metadata": {
    "pycharm": {
     "name": "#%%\n"
    }
   },
   "outputs": [
    {
     "name": "stdout",
     "output_type": "stream",
     "text": [
      "Testing with another date? y/n: y\n",
      "Set testing run time: \n",
      "Enter the testing date: YYYY-MM-DD 2020-11-23\n"
     ]
    }
   ],
   "source": [
    "run_time = datetime.now()\n",
    "testing_flag = input(\"Testing with another date? y/n: \")\n",
    "if testing_flag.lower() == \"y\":\n",
    "    print(\"Set testing run time: \")\n",
    "    run_time_yyyy_mm_dd_input = input(\"Enter the testing date: YYYY-MM-DD \")\n",
    "    timestamp = \"10:30 AM \" + run_time_yyyy_mm_dd_input\n",
    "    run_time = dateutil.parser.parse(timestamp)\n",
    "run_time = pytz.timezone(\"America/New_York\").localize(run_time)\n"
   ]
  },
  {
   "cell_type": "code",
   "execution_count": 25,
   "metadata": {},
   "outputs": [
    {
     "data": {
      "text/plain": [
       "datetime.datetime(2020, 11, 23, 10, 30, tzinfo=<DstTzInfo 'America/New_York' EST-1 day, 19:00:00 STD>)"
      ]
     },
     "execution_count": 25,
     "metadata": {},
     "output_type": "execute_result"
    }
   ],
   "source": [
    "run_time"
   ]
  },
  {
   "cell_type": "markdown",
   "metadata": {},
   "source": [
    "### Set Up MS Azure Personalizer Client\n",
    "\n",
    "Defining and Instantiating a Personalizer Client:\n",
    "\n",
    "Personalizer Keys:\n",
    "* In the Microsoft Azure Dashboard, navigate to our bwh-pharmacoepi-roybal-dev-use2-cog Cognitive Services page.\n",
    "* Within the Keys and Endpoint section, copy either Key 1 or Key 2 to enter as the Personalizer Key.\n",
    "\n",
    "Personalizer Endpoint:\n",
    "* https://bwh-pharmacoepi-roybal-dev-use2-cog.cognitiveservices.azure.com/"
   ]
  },
  {
   "cell_type": "code",
   "execution_count": 15,
   "metadata": {
    "pycharm": {
     "name": "#%%\n"
    }
   },
   "outputs": [
    {
     "name": "stdout",
     "output_type": "stream",
     "text": [
      "ENTER FILEPATH TO PERSONALIZER KEY: \n",
      "C:\\Users\\lg436\\.keys\\azure-personalizer-key.txt\n"
     ]
    }
   ],
   "source": [
    "## TODO make this a relative path that works for both our machines\n",
    "personalizer_path = input(\"ENTER FILEPATH TO PERSONALIZER KEY: \\n\")\n",
    "with open(personalizer_path, 'r') as f:\n",
    "     personalizer_key = f.read()\n",
    "personalizer_endpoint = \"https://bwh-pharmacoepi-roybal-dev-use2-cog.cognitiveservices.azure.com/\"\n",
    "client = PersonalizerClient(personalizer_endpoint, CognitiveServicesCredentials(personalizer_key))"
   ]
  },
  {
   "cell_type": "markdown",
   "metadata": {},
   "source": [
    "## Reward Step\n",
    "\n",
    "If we've already initiated the trial, we will have:\n",
    "* Pre-existing patient dataset in need of reward updates\n",
    "* Pillsy data from yesterday to determine reward\n",
    "If this is study initiation, this step will just load an empty patient dictionary and null pillsy dataset."
   ]
  },
  {
   "cell_type": "code",
   "execution_count": null,
   "metadata": {
    "pycharm": {
     "name": "#%%\n"
    }
   },
   "outputs": [],
   "source": [
    "pt_data = import_pt_data(run_time)\n",
    "new_pillsy_data = import_Pillsy(run_time)\n",
    "\n",
    "if pt_data and new_pillsy_data:\n",
    "    \n",
    "    # From Pillsy data, computes the Rewards to send to Personalizer for each patient's Rank calls from yesterday's run.\n",
    "    find_rewards(new_pillsy_data, pt_data, run_time)\n",
    "    \n",
    "    # using updated patient data (new pillsy + patient data), format the rewards to Personalizer into a dataframe\n",
    "    rewards_to_send = get_reward_update(pt_data, run_time)\n",
    "    \n",
    "    # actual call to personalizer\n",
    "    send_rewards(rewards_to_send, client, run_time)\n",
    "    \n",
    "export_pt_data(pt_data, \"reward\", run_time)"
   ]
  },
  {
   "cell_type": "markdown",
   "metadata": {},
   "source": [
    "## Import/Update Patients"
   ]
  },
  {
   "cell_type": "code",
   "execution_count": 33,
   "metadata": {
    "collapsed": true
   },
   "outputs": [
    {
     "ename": "TypeError",
     "evalue": "'NoneType' object is not subscriptable",
     "output_type": "error",
     "traceback": [
      "\u001b[1;31m---------------------------------------------------------------------------\u001b[0m",
      "\u001b[1;31mTypeError\u001b[0m                                 Traceback (most recent call last)",
      "\u001b[1;32m<ipython-input-33-ab5d94b36ef4>\u001b[0m in \u001b[0;36m<module>\u001b[1;34m\u001b[0m\n\u001b[0;32m      1\u001b[0m \u001b[0mredcap_data\u001b[0m \u001b[1;33m=\u001b[0m \u001b[0mimport_redcap\u001b[0m\u001b[1;33m(\u001b[0m\u001b[0mrun_time\u001b[0m\u001b[1;33m)\u001b[0m\u001b[1;33m\u001b[0m\u001b[1;33m\u001b[0m\u001b[0m\n\u001b[1;32m----> 2\u001b[1;33m \u001b[0mpt_data\u001b[0m \u001b[1;33m=\u001b[0m \u001b[0mupdate_pt_data_with_redcap\u001b[0m\u001b[1;33m(\u001b[0m\u001b[0mredcap_data\u001b[0m\u001b[1;33m,\u001b[0m \u001b[0mpt_data\u001b[0m\u001b[1;33m,\u001b[0m \u001b[0mrun_time\u001b[0m\u001b[1;33m)\u001b[0m\u001b[1;33m\u001b[0m\u001b[1;33m\u001b[0m\u001b[0m\n\u001b[0m",
      "\u001b[1;32mc:\\users\\lg436\\dropbox (partners healthcare)\\shared -- reinforcement learning\\bwh-pharmacoepi-roybal\\fresh_restart\\redcap_parser.py\u001b[0m in \u001b[0;36mupdate_pt_data_with_redcap\u001b[1;34m(redcap_data, pt_data, run_time)\u001b[0m\n\u001b[0;32m     87\u001b[0m     \u001b[1;31m# TODO Joe - can you check this function thats purpose is to just add the redcap data to the pt_data for new patients and for existing patients updatee their existing censor and pillsy related info with the new redcap info\u001b[0m\u001b[1;33m\u001b[0m\u001b[1;33m\u001b[0m\u001b[1;33m\u001b[0m\u001b[0m\n\u001b[0;32m     88\u001b[0m     \u001b[0munique_study_ids_list_redcap\u001b[0m \u001b[1;33m=\u001b[0m \u001b[0mget_unique_study_ids\u001b[0m\u001b[1;33m(\u001b[0m\u001b[0mredcap_data\u001b[0m\u001b[1;33m)\u001b[0m\u001b[1;33m\u001b[0m\u001b[1;33m\u001b[0m\u001b[0m\n\u001b[1;32m---> 89\u001b[1;33m     \u001b[0munique_study_ids_list_pt_data\u001b[0m \u001b[1;33m=\u001b[0m \u001b[0mget_unique_study_ids\u001b[0m\u001b[1;33m(\u001b[0m\u001b[0mpt_data\u001b[0m\u001b[1;33m)\u001b[0m\u001b[1;33m\u001b[0m\u001b[1;33m\u001b[0m\u001b[0m\n\u001b[0m\u001b[0;32m     90\u001b[0m \u001b[1;33m\u001b[0m\u001b[0m\n\u001b[0;32m     91\u001b[0m     \u001b[1;31m# Updating existing patients\u001b[0m\u001b[1;33m\u001b[0m\u001b[1;33m\u001b[0m\u001b[1;33m\u001b[0m\u001b[0m\n",
      "\u001b[1;32mc:\\users\\lg436\\dropbox (partners healthcare)\\shared -- reinforcement learning\\bwh-pharmacoepi-roybal\\fresh_restart\\redcap_parser.py\u001b[0m in \u001b[0;36mget_unique_study_ids\u001b[1;34m(df)\u001b[0m\n\u001b[0;32m    170\u001b[0m \u001b[1;32mdef\u001b[0m \u001b[0mget_unique_study_ids\u001b[0m\u001b[1;33m(\u001b[0m\u001b[0mdf\u001b[0m\u001b[1;33m)\u001b[0m\u001b[1;33m:\u001b[0m\u001b[1;33m\u001b[0m\u001b[1;33m\u001b[0m\u001b[0m\n\u001b[0;32m    171\u001b[0m     \u001b[1;31m# Subsets the redcap data into the record_id column\u001b[0m\u001b[1;33m\u001b[0m\u001b[1;33m\u001b[0m\u001b[1;33m\u001b[0m\u001b[0m\n\u001b[1;32m--> 172\u001b[1;33m     \u001b[0mstudy_ids\u001b[0m \u001b[1;33m=\u001b[0m \u001b[0mdf\u001b[0m\u001b[1;33m[\u001b[0m\u001b[1;34m'record_id'\u001b[0m\u001b[1;33m]\u001b[0m\u001b[1;33m.\u001b[0m\u001b[0mcopy\u001b[0m\u001b[1;33m(\u001b[0m\u001b[1;33m)\u001b[0m\u001b[1;33m\u001b[0m\u001b[1;33m\u001b[0m\u001b[0m\n\u001b[0m\u001b[0;32m    173\u001b[0m     \u001b[1;31m# Drops duplicate id's so we have a succinct list (not particularly necessary)\u001b[0m\u001b[1;33m\u001b[0m\u001b[1;33m\u001b[0m\u001b[1;33m\u001b[0m\u001b[0m\n\u001b[0;32m    174\u001b[0m     \u001b[0munique_study_ids\u001b[0m \u001b[1;33m=\u001b[0m \u001b[0mstudy_ids\u001b[0m\u001b[1;33m.\u001b[0m\u001b[0mdrop_duplicates\u001b[0m\u001b[1;33m(\u001b[0m\u001b[1;33m)\u001b[0m\u001b[1;33m\u001b[0m\u001b[1;33m\u001b[0m\u001b[0m\n",
      "\u001b[1;31mTypeError\u001b[0m: 'NoneType' object is not subscriptable"
     ]
    }
   ],
   "source": [
    "redcap_data = import_redcap(run_time)\n",
    "pt_data = update_pt_data_with_redcap(redcap_data, pt_data, run_time)"
   ]
  },
  {
   "cell_type": "code",
   "execution_count": 34,
   "metadata": {},
   "outputs": [
    {
     "name": "stdout",
     "output_type": "stream",
     "text": [
      "   record_id    age         sex num_years_dm_rx    hba1c  race___1  race___2  \\\n",
      "0         13  45-54  Not listed             1-2  7.5-8.0         1         0   \n",
      "1         14  55-64           F             3-4  8.1-8.9         0         1   \n",
      "2         15  75-84           M              5+      10+         0         0   \n",
      "3         16  75-84  Not listed               0  8.1-8.9         0         0   \n",
      "4         17  18-34           F             3-4  7.5-8.0         0         0   \n",
      "5         18  35-44           F              5+  9.0-9.9         0         0   \n",
      "6         19  65-74           M             3-4  7.5-8.0         0         0   \n",
      "7         20  65-74           M               0  8.1-8.9         0         0   \n",
      "\n",
      "   race___3  race___4  race___5  ...  pillsy_meds___3  pillsy_meds___4  \\\n",
      "0         0         0         0  ...                1                0   \n",
      "1         0         0         0  ...                0                0   \n",
      "2         1         0         0  ...                1                0   \n",
      "3         0         1         0  ...                0                0   \n",
      "4         0         0         1  ...                0                0   \n",
      "5         0         0         0  ...                0                0   \n",
      "6         0         0         0  ...                0                1   \n",
      "7         0         0         0  ...                1                0   \n",
      "\n",
      "  pillsy_meds___5 pillsy_meds___6  pillsy_meds___7 pillsy_meds___8 bottles  \\\n",
      "0               0               0                1               0       3   \n",
      "1               1               0                0               1       3   \n",
      "2               0               0                0               0       2   \n",
      "3               0               0                1               0       2   \n",
      "4               0               0                0               0       1   \n",
      "5               1               0                0               0       1   \n",
      "6               0               0                1               0       3   \n",
      "7               1               0                0               0       2   \n",
      "\n",
      "  start_date num_twice_daily_pillsy_meds censor  \n",
      "0 2020-11-04                           3      0  \n",
      "1 2020-10-23                           2      1  \n",
      "2 2020-11-07                           2      0  \n",
      "3 2020-11-10                           1      0  \n",
      "4 2020-11-07                           1      0  \n",
      "5 2020-09-16                           0      1  \n",
      "6 2020-10-29                           0      0  \n",
      "7 2020-11-03                           0      0  \n",
      "\n",
      "[8 rows x 34 columns]\n"
     ]
    }
   ],
   "source": [
    "redcap_data = import_redcap(run_time)\n",
    "print(redcap_data)"
   ]
  },
  {
   "cell_type": "code",
   "execution_count": 32,
   "metadata": {},
   "outputs": [],
   "source": [
    "# # testing import_redcap\n",
    "# run_time_redcaptest = run_time\n",
    "\n",
    "# import_date = run_time_redcaptest.date()\n",
    "# # Imports REDCap patients that are enrolling on an ongoing basis as a pandas data frame from a CSV\n",
    "# redcap_filepath = str(import_date) + \"_redcap\" + '.csv'\n",
    "# fp = os.path.join(\"..\", \"..\", \"REDCap\", redcap_filepath)\n",
    "# date_cols = [\"start_date\"]\n",
    "# redcap = pd.read_csv(fp, sep=',', parse_dates=date_cols)\n",
    "# redcap = redcap_vars_converter(redcap)\n",
    "\n",
    "# redcap\n",
    "# print(os.getcwd())\n",
    "# print(os.path.abspath(fp))"
   ]
  },
  {
   "cell_type": "code",
   "execution_count": null,
   "metadata": {},
   "outputs": [],
   "source": []
  },
  {
   "cell_type": "code",
   "execution_count": null,
   "metadata": {},
   "outputs": [],
   "source": [
    "# run_time = \n",
    "\n",
    "import_date = run_time.date()\n",
    "# Imports REDCap patients that are enrolling on an ongoing basis as a pandas data frame from a CSV\n",
    "redcap_filepath = str(import_date) + \"_redcap\" + '.csv'\n",
    "fp = os.path.join(\"..\", \"..\", \"REDCap\", redcap_filepath)\n",
    "date_cols = [\"start_date\"]"
   ]
  },
  {
   "cell_type": "markdown",
   "metadata": {},
   "source": [
    "## Rank Step\n",
    "Call Personalizer to rank action features to find the correct text message to send today."
   ]
  },
  {
   "cell_type": "code",
   "execution_count": null,
   "metadata": {
    "pycharm": {
     "name": "#%%\n"
    }
   },
   "outputs": [],
   "source": [
    "for index, patient in pt_data.iterrows():\n",
    "    if patient[\"censor\"] != 1 and patient[\"censor_date\"] > run_time.date():\n",
    "        run_ranking(patient, client, run_time)\n",
    "        #need checks if pass by ref or val\n",
    "export_pt_data(pt_data, \"rank\", run_time) # log"
   ]
  },
  {
   "cell_type": "markdown",
   "metadata": {},
   "source": [
    "## Output SMS and Patient Data"
   ]
  },
  {
   "cell_type": "code",
   "execution_count": null,
   "metadata": {},
   "outputs": [],
   "source": [
    "write_sms_history(pt_data, run_time)\n",
    "export_pt_data(pt_data, \"final\", run_time) # input for tomorrow\n",
    "check_control_disconnectedness(run_time) # check whether controls have connection problems"
   ]
  },
  {
   "cell_type": "markdown",
   "metadata": {
    "pycharm": {
     "name": "#%% md\n"
    }
   },
   "source": [
    "To Do List:\n",
    "  * Executability by RA / User friendliness\n",
    "    * [x] - Lily done by using Jupyter notebook - Making this more user friendly than a  Command Line\n",
    "    * [ ] - JOE TODO / help brainstorm - make jupyter notebook pretty and write a how to document for new non CS person to be able to execute this from Jupyter notebook\n",
    "    * [ ] - JOE TODO / help brainstorm - Making this more user friendly than a Jupyter Notebook - to do by doing a main.py executable bash script\n",
    "    * [ ] - JOE TODO / help brainstorm - Hooks into Pillsy/RedCap for data retrieval - need check in with constance for pillsy and ellen for redcap\n",
    "    * [ ] - JOE TODO / help brainstorm - (probably not feasible) Hooks into SMS Platform to automate text sending - need check in with constance\n",
    "    * [ ] - JOE TODO / help brainstorm - how to handle the definite 1 human entered variable of personalizer key - file to direct to or? - maybe as marco/elad\n",
    "    * [ ] - Lily/JOE TODO / help - try to break this code in any way possible\n",
    "    * [ ] - Lily/JOE TODO / help - debug, unit testing\n",
    "    * [ ] - Lily/JOE TODO / help - run it fully several times based in dropbox together\n",
    "    * [ ] - Lily/JOE TODO / help - Make a log file that will report high level information from running this like a run summary\n",
    "        * elements to include:\n",
    "            * start and end time of the run\n",
    "            * how many patients were read in from each import statement\n",
    "            * how many reward calls were successfull made\n",
    "            * how many rank calls were successfull made\n",
    "            * any other meta data that will help us debug and ensure this is all working as planned\n",
    "\n",
    "\n"
   ]
  }
 ],
 "metadata": {
  "kernelspec": {
   "display_name": "Python 3",
   "language": "python",
   "name": "python3"
  },
  "language_info": {
   "codemirror_mode": {
    "name": "ipython",
    "version": 3
   },
   "file_extension": ".py",
   "mimetype": "text/x-python",
   "name": "python",
   "nbconvert_exporter": "python",
   "pygments_lexer": "ipython3",
   "version": "3.7.7"
  }
 },
 "nbformat": 4,
 "nbformat_minor": 1
}
