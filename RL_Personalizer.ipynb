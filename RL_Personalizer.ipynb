{
 "cells": [
  {
   "cell_type": "markdown",
   "metadata": {},
   "source": [
    "# Increasing Patient Medication Adherence By Custom AI Generated Text Message"
   ]
  },
  {
   "cell_type": "code",
   "execution_count": null,
   "metadata": {
    "pycharm": {
     "name": "#%%\n"
    }
   },
   "outputs": [],
   "source": [
    "import sys\n",
    "import time\n",
    "import dateutil\n",
    "import dateutil.parser\n",
    "from azure.cognitiveservices.personalizer import PersonalizerClient\n",
    "from azure.cognitiveservices.personalizer.models import RankRequest\n",
    "from msrest.authentication import CognitiveServicesCredentials\n",
    "import pandas as pd\n",
    "import numpy as np\n",
    "import math\n",
    "import time\n",
    "from datetime import datetime\n",
    "from collections import Counter\n",
    "import string\n",
    "import pickle\n",
    "import json\n",
    "import pytz\n",
    "import os\n",
    "import re"
   ]
  },
  {
   "cell_type": "code",
   "execution_count": null,
   "metadata": {
    "pycharm": {
     "name": "#%%\n"
    },
    "scrolled": true
   },
   "outputs": [],
   "source": [
    "from patient_data import import_pt_data, new_empty_pt_data\n",
    "from pillsy_parser import import_Pillsy, find_rewards\n",
    "from driverReward import get_reward_update,send_rewards\n",
    "from redcap_parser import import_redcap, update_pt_data_with_redcap\n",
    "from driverRank import run_ranking, write_sms_history\n",
    "from control_disconnection import check_control_disconnectedness, import_redcap_control, import_pt_data_control\n",
    "from exe_functions import build_path"
   ]
  },
  {
   "cell_type": "markdown",
   "metadata": {},
   "source": [
    "### Get Run Time"
   ]
  },
  {
   "cell_type": "code",
   "execution_count": null,
   "metadata": {
    "pycharm": {
     "name": "#%%\n"
    }
   },
   "outputs": [],
   "source": [
    "run_time = datetime.now()\n",
    "run_time = pytz.timezone(\"America/New_York\").localize(run_time)"
   ]
  },
  {
   "cell_type": "markdown",
   "metadata": {},
   "source": [
    "### Check if program has been run today"
   ]
  },
  {
   "cell_type": "code",
   "execution_count": null,
   "metadata": {},
   "outputs": [],
   "source": [
    "fp = build_path(\"_ProgramLog\", str(run_time.date()) + \"_RL_Personalizer_log.txt\")\n",
    "if os.path.isfile(fp): \n",
    "    input(\"\\nALREADY RAN TODAY: {}.\\n\".format(run_time.strftime(\"%B %d, %Y\"))\n",
    "          + \"Please contact the other RAs to confirm someone else has already run it today.\\n\"\n",
    "          + \"Press Enter to exit the program and close this window.\")\n",
    "    sys.exit()"
   ]
  },
  {
   "cell_type": "markdown",
   "metadata": {},
   "source": [
    "### Check for (non)existence of files"
   ]
  },
  {
   "cell_type": "code",
   "execution_count": null,
   "metadata": {},
   "outputs": [],
   "source": [
    "pt_data = import_pt_data(run_time)\n",
    "pt_data_control = import_pt_data_control(run_time)\n",
    "new_pillsy_data = import_Pillsy(run_time)\n",
    "redcap_data = import_redcap(run_time)\n",
    "redcap_control = import_redcap_control(run_time)"
   ]
  },
  {
   "cell_type": "markdown",
   "metadata": {},
   "source": [
    "### Open Log File for Program"
   ]
  },
  {
   "cell_type": "code",
   "execution_count": null,
   "metadata": {},
   "outputs": [],
   "source": [
    "old_stdout = sys.stdout        \n",
    "log_file = open(fp, \"w\")\n",
    "sys.stdout = log_file"
   ]
  },
  {
   "cell_type": "markdown",
   "metadata": {},
   "source": [
    "### Start Main Body of Program"
   ]
  },
  {
   "cell_type": "code",
   "execution_count": null,
   "metadata": {},
   "outputs": [],
   "source": [
    "print(\"-----------------------------BEGIN PROGRAM----------------------------\")\n",
    "print(run_time)"
   ]
  },
  {
   "cell_type": "markdown",
   "metadata": {},
   "source": [
    "### Set Up MS Azure Personalizer Client\n",
    "\n",
    "Defining and Instantiating a Personalizer Client:\n",
    "\n",
    "Personalizer Keys:\n",
    "* In the Microsoft Azure Dashboard, navigate to our bwh-pharmacoepi-roybal-dev-use2-cog Cognitive Services page.\n",
    "* Within the Keys and Endpoint section, copy either Key 1 or Key 2 to enter as the Personalizer Key.\n",
    "\n",
    "Personalizer Endpoint:\n",
    "* https://bwh-pharmacoepi-roybal-dev-use2-cog.cognitiveservices.azure.com/"
   ]
  },
  {
   "cell_type": "code",
   "execution_count": null,
   "metadata": {
    "pycharm": {
     "name": "#%%\n"
    }
   },
   "outputs": [],
   "source": [
    "print(\"-----------------------------CREATE PERSONALIZER CLIENT----------------------------\")\n",
    "with open(build_path(\".keys\", \"azure-personalizer-key.txt\"), 'r') as f:\n",
    "     personalizer_key = f.read().rstrip()\n",
    "client = PersonalizerClient(\n",
    "    \"https://bwh-pharmacoepi-roybal-dev-use2-cog.cognitiveservices.azure.com/\", \n",
    "    CognitiveServicesCredentials(personalizer_key)\n",
    ")"
   ]
  },
  {
   "cell_type": "markdown",
   "metadata": {},
   "source": [
    "## Reward Step\n",
    "\n",
    "If we've already initiated the trial, we will have:\n",
    "* Pre-existing patient dataset in need of reward updates\n",
    "* Pillsy data from yesterday to determine reward\n",
    "If this is study initiation, this step will just load an empty patient dictionary and null pillsy dataset."
   ]
  },
  {
   "cell_type": "code",
   "execution_count": null,
   "metadata": {
    "pycharm": {
     "name": "#%%\n"
    },
    "scrolled": true
   },
   "outputs": [],
   "source": [
    "if not pt_data.empty and new_pillsy_data is not None:\n",
    "    print(\"----------------------------IMPORT PILLSY AND PT DATA SUCCESS---------------------------\")\n",
    "    print(\"----------------------------------RUNNING FIND REWARDS----------------------------------\")\n",
    "    # From Pillsy data, computes the Rewards to send to Personalizer for each patient's Rank calls from yesterday's run.\n",
    "    pt_data = find_rewards(new_pillsy_data, pt_data, run_time)\n",
    "    print(\"---------------------------FORMATTING REWARDS FOR PERSONALIZER--------------------------\")\n",
    "    # using updated patient data (new pillsy + patient data), format the rewards to Personalizer into a dataframe\n",
    "    rewards_to_send = get_reward_update(pt_data, run_time)\n",
    "    print(\"-----------------------------SENDING REWARDS TO PERSONALIZER----------------------------\")\n",
    "    # actual call to personalizer\n",
    "    send_rewards(rewards_to_send, client)"
   ]
  },
  {
   "cell_type": "markdown",
   "metadata": {},
   "source": [
    "### Import New / Update Existing / Censor Patients"
   ]
  },
  {
   "cell_type": "code",
   "execution_count": null,
   "metadata": {
    "pycharm": {
     "name": "#%%\n"
    }
   },
   "outputs": [],
   "source": [
    "print(\"-----------------------------IMPORT REDCAP AND PT DATA----------------------------\")\n",
    "pt_data = update_pt_data_with_redcap(redcap_data, pt_data, run_time)"
   ]
  },
  {
   "cell_type": "markdown",
   "metadata": {},
   "source": [
    "## Rank Step\n",
    "Call Personalizer to rank action features to find the correct text message to send today."
   ]
  },
  {
   "cell_type": "code",
   "execution_count": null,
   "metadata": {
    "pycharm": {
     "name": "#%%\n"
    },
    "scrolled": true
   },
   "outputs": [],
   "source": [
    "ranked_pt_data = new_empty_pt_data()\n",
    "print(\"---------------------------------RANKING PATIENTS---------------------------------\")\n",
    "for index, patient in pt_data.iterrows():\n",
    "    if patient[\"censor\"] != 1 and patient[\"censor_date\"] > run_time.date():\n",
    "        patient = run_ranking(patient, client, run_time)\n",
    "        ranked_pt_data = ranked_pt_data.append(patient)"
   ]
  },
  {
   "cell_type": "markdown",
   "metadata": {},
   "source": [
    "### Output SMS and Patient Data"
   ]
  },
  {
   "cell_type": "code",
   "execution_count": null,
   "metadata": {
    "pycharm": {
     "name": "#%%\n"
    }
   },
   "outputs": [],
   "source": [
    "print(\"---------------------------------EXPORT SMS FILE---------------------------------\")\n",
    "write_sms_history(ranked_pt_data, run_time)\n",
    "ranked_pt_data.to_csv(\n",
    "    build_path(\"000_PatientData\", str(run_time.date()) + \"_pt_data.csv\"), \n",
    "    index=False\n",
    ")"
   ]
  },
  {
   "cell_type": "markdown",
   "metadata": {},
   "source": [
    "### Evaluate Adherence, Disconnectedness, & Early Use for Control Arm"
   ]
  },
  {
   "cell_type": "code",
   "execution_count": null,
   "metadata": {},
   "outputs": [],
   "source": [
    "print(\"---------------------------------CHECKING CONTROLS---------------------------------\")\n",
    "check_control_disconnectedness(new_pillsy_data,redcap_control,pt_data_control,run_time) # check whether controls have connection problems\n",
    "print(\"-----------------------------------------------------------------------------------\")"
   ]
  },
  {
   "cell_type": "markdown",
   "metadata": {},
   "source": [
    "### Close Log File for Program"
   ]
  },
  {
   "cell_type": "code",
   "execution_count": null,
   "metadata": {},
   "outputs": [],
   "source": [
    "log_file.close()\n",
    "sys.stdout = old_stdout"
   ]
  },
  {
   "cell_type": "markdown",
   "metadata": {},
   "source": [
    "### End Program"
   ]
  },
  {
   "cell_type": "code",
   "execution_count": null,
   "metadata": {},
   "outputs": [],
   "source": [
    "print(\"---------------------------------PROGRAM SUCCESSFULLY RAN--------------------------\")\n",
    "input(\"SUCCESSFULLY RAN TODAY: {} \\n\".format(run_time.strftime(\"%B %d, %Y\"))\n",
    "        + \"Now, send messages to patients from /000_SMS_TO_SEND/\" + str(run_time.date()) + \"_sms_history.csv\"\n",
    "        + \"\\nPress Enter to exit the program and close this window.\")\n",
    "sys.exit()"
   ]
  }
 ],
 "metadata": {
  "kernelspec": {
   "display_name": "Python 3",
   "language": "python",
   "name": "python3"
  },
  "language_info": {
   "codemirror_mode": {
    "name": "ipython",
    "version": 3
   },
   "file_extension": ".py",
   "mimetype": "text/x-python",
   "name": "python",
   "nbconvert_exporter": "python",
   "pygments_lexer": "ipython3",
   "version": "3.7.7"
  }
 },
 "nbformat": 4,
 "nbformat_minor": 1
}
