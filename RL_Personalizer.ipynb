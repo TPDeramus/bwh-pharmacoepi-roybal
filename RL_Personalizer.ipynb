{
 "cells": [
  {
   "cell_type": "markdown",
   "metadata": {},
   "source": [
    "## Reinforcement Learning for SMS Messaging to Improve Medication Adherence - Roybal"
   ]
  },
  {
   "cell_type": "code",
   "execution_count": 1,
   "metadata": {
    "pycharm": {
     "name": "#%%\n"
    }
   },
   "outputs": [],
   "source": [
    "import sys\n",
    "import time\n",
    "import dateutil\n",
    "from azure.cognitiveservices.personalizer import PersonalizerClient\n",
    "from azure.cognitiveservices.personalizer.models import RankRequest\n",
    "from msrest.authentication import CognitiveServicesCredentials\n",
    "import pandas as pd\n",
    "import numpy as np\n",
    "import math\n",
    "import time\n",
    "from datetime import datetime\n",
    "from collections import Counter\n",
    "import string\n",
    "import pickle\n",
    "import json\n",
    "import pytz\n",
    "import os"
   ]
  },
  {
   "cell_type": "code",
   "execution_count": 2,
   "metadata": {
    "pycharm": {
     "name": "#%%\n"
    }
   },
   "outputs": [],
   "source": [
    "from patient_data import import_pt_data,export_pt_data\n",
    "from pillsy_parser import import_Pillsy, find_rewards\n",
    "from driverReward import get_reward_update,send_rewards\n",
    "from redcap_parser import import_redcap, update_pt_data_with_redcap\n",
    "from driverRank import run_ranking, write_sms_history\n",
    "from control_disconnection import check_control_disconnectedness"
   ]
  },
  {
   "cell_type": "markdown",
   "metadata": {},
   "source": [
    "### Start Program Timer"
   ]
  },
  {
   "cell_type": "code",
   "execution_count": 3,
   "metadata": {
    "pycharm": {
     "name": "#%%\n"
    }
   },
   "outputs": [
    {
     "name": "stdout",
     "output_type": "stream",
     "text": [
      "Testing with another date? y/n: y\n",
      "Set testing run time: \n",
      "Enter the testing date: YYYY-MM-DD 2020-11-23\n"
     ]
    },
    {
     "data": {
      "text/plain": [
       "datetime.datetime(2020, 11, 23, 10, 30, tzinfo=<DstTzInfo 'America/New_York' EST-1 day, 19:00:00 STD>)"
      ]
     },
     "execution_count": 3,
     "metadata": {},
     "output_type": "execute_result"
    }
   ],
   "source": [
    "run_time = datetime.now()\n",
    "testing_flag = input(\"Testing with another date? y/n: \")\n",
    "if testing_flag.lower() == \"y\":\n",
    "    print(\"Set testing run time: \")\n",
    "    run_time_yyyy_mm_dd_input = input(\"Enter the testing date: YYYY-MM-DD \")\n",
    "    timestamp = \"10:30 AM \" + run_time_yyyy_mm_dd_input\n",
    "    run_time = dateutil.parser.parse(timestamp)\n",
    "run_time = pytz.timezone(\"America/New_York\").localize(run_time)\n",
    "run_time"
   ]
  },
  {
   "cell_type": "markdown",
   "metadata": {},
   "source": [
    "### Set Up MS Azure Personalizer Client\n",
    "\n",
    "Defining and Instantiating a Personalizer Client:\n",
    "\n",
    "Personalizer Keys:\n",
    "* In the Microsoft Azure Dashboard, navigate to our bwh-pharmacoepi-roybal-dev-use2-cog Cognitive Services page.\n",
    "* Within the Keys and Endpoint section, copy either Key 1 or Key 2 to enter as the Personalizer Key.\n",
    "\n",
    "Personalizer Endpoint:\n",
    "* https://bwh-pharmacoepi-roybal-dev-use2-cog.cognitiveservices.azure.com/"
   ]
  },
  {
   "cell_type": "code",
   "execution_count": 4,
   "metadata": {
    "pycharm": {
     "name": "#%%\n"
    }
   },
   "outputs": [],
   "source": [
    "with open(os.path.join(\"..\", \".keys\", \"azure-personalizer-key.txt\"), 'r') as f:\n",
    "     personalizer_key = f.read().rstrip()\n",
    "personalizer_endpoint = \"https://bwh-pharmacoepi-roybal-dev-use2-cog.cognitiveservices.azure.com/\"\n",
    "client = PersonalizerClient(personalizer_endpoint, CognitiveServicesCredentials(personalizer_key))"
   ]
  },
  {
   "cell_type": "markdown",
   "metadata": {},
   "source": [
    "## Reward Step\n",
    "\n",
    "If we've already initiated the trial, we will have:\n",
    "* Pre-existing patient dataset in need of reward updates\n",
    "* Pillsy data from yesterday to determine reward\n",
    "If this is study initiation, this step will just load an empty patient dictionary and null pillsy dataset."
   ]
  },
  {
   "cell_type": "code",
   "execution_count": 11,
   "metadata": {
    "collapsed": true,
    "pycharm": {
     "name": "#%%\n"
    }
   },
   "outputs": [
    {
     "ename": "TypeError",
     "evalue": "expected string or bytes-like object",
     "output_type": "error",
     "traceback": [
      "\u001b[1;31m---------------------------------------------------------------------------\u001b[0m",
      "\u001b[1;31mTypeError\u001b[0m                                 Traceback (most recent call last)",
      "\u001b[1;32m<ipython-input-11-ffbfc2055fdc>\u001b[0m in \u001b[0;36m<module>\u001b[1;34m\u001b[0m\n\u001b[0;32m      1\u001b[0m \u001b[0mpt_data\u001b[0m \u001b[1;33m=\u001b[0m \u001b[0mimport_pt_data\u001b[0m\u001b[1;33m(\u001b[0m\u001b[0mrun_time\u001b[0m\u001b[1;33m)\u001b[0m\u001b[1;33m\u001b[0m\u001b[1;33m\u001b[0m\u001b[0m\n\u001b[1;32m----> 2\u001b[1;33m \u001b[0mnew_pillsy_data\u001b[0m \u001b[1;33m=\u001b[0m \u001b[0mimport_Pillsy\u001b[0m\u001b[1;33m(\u001b[0m\u001b[0mrun_time\u001b[0m\u001b[1;33m)\u001b[0m\u001b[1;33m\u001b[0m\u001b[1;33m\u001b[0m\u001b[0m\n\u001b[0m\u001b[0;32m      3\u001b[0m \u001b[1;33m\u001b[0m\u001b[0m\n\u001b[0;32m      4\u001b[0m \u001b[1;32mif\u001b[0m \u001b[0mpt_data\u001b[0m \u001b[1;32mand\u001b[0m \u001b[0mnew_pillsy_data\u001b[0m\u001b[1;33m:\u001b[0m\u001b[1;33m\u001b[0m\u001b[1;33m\u001b[0m\u001b[0m\n\u001b[0;32m      5\u001b[0m \u001b[1;33m\u001b[0m\u001b[0m\n",
      "\u001b[1;32mc:\\users\\lg436\\dropbox (partners healthcare)\\shared -- reinforcement learning\\bwh-pharmacoepi-roybal\\fresh_restart\\pillsy_parser.py\u001b[0m in \u001b[0;36mimport_Pillsy\u001b[1;34m(run_time)\u001b[0m\n\u001b[0;32m     47\u001b[0m         \u001b[1;32mreturn\u001b[0m \u001b[0mtime_string\u001b[0m\u001b[1;33m.\u001b[0m\u001b[0mreplace\u001b[0m\u001b[1;33m(\u001b[0m\u001b[0mtz_abbr\u001b[0m\u001b[1;33m,\u001b[0m \u001b[0mtz_ref\u001b[0m\u001b[1;33m[\u001b[0m\u001b[0mtz_abbr\u001b[0m\u001b[1;33m]\u001b[0m\u001b[1;33m)\u001b[0m\u001b[1;33m\u001b[0m\u001b[1;33m\u001b[0m\u001b[0m\n\u001b[0;32m     48\u001b[0m \u001b[1;33m\u001b[0m\u001b[0m\n\u001b[1;32m---> 49\u001b[1;33m     \u001b[0mpillsy\u001b[0m\u001b[1;33m[\u001b[0m\u001b[1;34m\"eventTime\"\u001b[0m\u001b[1;33m]\u001b[0m \u001b[1;33m=\u001b[0m \u001b[0mpd\u001b[0m\u001b[1;33m.\u001b[0m\u001b[0mto_datetime\u001b[0m\u001b[1;33m(\u001b[0m\u001b[0mconverter\u001b[0m\u001b[1;33m(\u001b[0m\u001b[0mpillsy\u001b[0m\u001b[1;33m[\u001b[0m\u001b[1;34m\"eventTime\"\u001b[0m\u001b[1;33m]\u001b[0m\u001b[1;33m)\u001b[0m\u001b[1;33m)\u001b[0m\u001b[1;33m\u001b[0m\u001b[1;33m\u001b[0m\u001b[0m\n\u001b[0m\u001b[0;32m     50\u001b[0m     \u001b[1;31m# Note: In this dataset our study_id is actually 'firstname', hence the drop of patientId\u001b[0m\u001b[1;33m\u001b[0m\u001b[1;33m\u001b[0m\u001b[1;33m\u001b[0m\u001b[0m\n\u001b[0;32m     51\u001b[0m     \u001b[1;31m# Note: firstname is currently read in as int64 dtype\u001b[0m\u001b[1;33m\u001b[0m\u001b[1;33m\u001b[0m\u001b[1;33m\u001b[0m\u001b[0m\n",
      "\u001b[1;32mc:\\users\\lg436\\dropbox (partners healthcare)\\shared -- reinforcement learning\\bwh-pharmacoepi-roybal\\fresh_restart\\pillsy_parser.py\u001b[0m in \u001b[0;36mconverter\u001b[1;34m(time_string)\u001b[0m\n\u001b[0;32m     44\u001b[0m     \u001b[1;32mdef\u001b[0m \u001b[0mconverter\u001b[0m\u001b[1;33m(\u001b[0m\u001b[0mtime_string\u001b[0m\u001b[1;33m)\u001b[0m\u001b[1;33m:\u001b[0m\u001b[1;33m\u001b[0m\u001b[1;33m\u001b[0m\u001b[0m\n\u001b[0;32m     45\u001b[0m         \u001b[1;32mimport\u001b[0m \u001b[0mre\u001b[0m\u001b[1;33m\u001b[0m\u001b[1;33m\u001b[0m\u001b[0m\n\u001b[1;32m---> 46\u001b[1;33m         \u001b[0mtz_abbr\u001b[0m \u001b[1;33m=\u001b[0m \u001b[0mre\u001b[0m\u001b[1;33m.\u001b[0m\u001b[0msearch\u001b[0m\u001b[1;33m(\u001b[0m\u001b[1;34mr\"\\d\\d:\\d\\d A|PM ([A-Z]{2,4}) \\d{4}-\\d\\d-\\d\\d\"\u001b[0m\u001b[1;33m,\u001b[0m \u001b[0mtime_string\u001b[0m\u001b[1;33m)\u001b[0m\u001b[1;33m.\u001b[0m\u001b[0mgroup\u001b[0m\u001b[1;33m(\u001b[0m\u001b[1;36m1\u001b[0m\u001b[1;33m)\u001b[0m\u001b[1;33m\u001b[0m\u001b[1;33m\u001b[0m\u001b[0m\n\u001b[0m\u001b[0;32m     47\u001b[0m         \u001b[1;32mreturn\u001b[0m \u001b[0mtime_string\u001b[0m\u001b[1;33m.\u001b[0m\u001b[0mreplace\u001b[0m\u001b[1;33m(\u001b[0m\u001b[0mtz_abbr\u001b[0m\u001b[1;33m,\u001b[0m \u001b[0mtz_ref\u001b[0m\u001b[1;33m[\u001b[0m\u001b[0mtz_abbr\u001b[0m\u001b[1;33m]\u001b[0m\u001b[1;33m)\u001b[0m\u001b[1;33m\u001b[0m\u001b[1;33m\u001b[0m\u001b[0m\n\u001b[0;32m     48\u001b[0m \u001b[1;33m\u001b[0m\u001b[0m\n",
      "\u001b[1;32m~\\AppData\\Local\\Programs\\Python\\Python37\\lib\\re.py\u001b[0m in \u001b[0;36msearch\u001b[1;34m(pattern, string, flags)\u001b[0m\n\u001b[0;32m    181\u001b[0m     \"\"\"Scan through string looking for a match to the pattern, returning\n\u001b[0;32m    182\u001b[0m     a Match object, or None if no match was found.\"\"\"\n\u001b[1;32m--> 183\u001b[1;33m     \u001b[1;32mreturn\u001b[0m \u001b[0m_compile\u001b[0m\u001b[1;33m(\u001b[0m\u001b[0mpattern\u001b[0m\u001b[1;33m,\u001b[0m \u001b[0mflags\u001b[0m\u001b[1;33m)\u001b[0m\u001b[1;33m.\u001b[0m\u001b[0msearch\u001b[0m\u001b[1;33m(\u001b[0m\u001b[0mstring\u001b[0m\u001b[1;33m)\u001b[0m\u001b[1;33m\u001b[0m\u001b[1;33m\u001b[0m\u001b[0m\n\u001b[0m\u001b[0;32m    184\u001b[0m \u001b[1;33m\u001b[0m\u001b[0m\n\u001b[0;32m    185\u001b[0m \u001b[1;32mdef\u001b[0m \u001b[0msub\u001b[0m\u001b[1;33m(\u001b[0m\u001b[0mpattern\u001b[0m\u001b[1;33m,\u001b[0m \u001b[0mrepl\u001b[0m\u001b[1;33m,\u001b[0m \u001b[0mstring\u001b[0m\u001b[1;33m,\u001b[0m \u001b[0mcount\u001b[0m\u001b[1;33m=\u001b[0m\u001b[1;36m0\u001b[0m\u001b[1;33m,\u001b[0m \u001b[0mflags\u001b[0m\u001b[1;33m=\u001b[0m\u001b[1;36m0\u001b[0m\u001b[1;33m)\u001b[0m\u001b[1;33m:\u001b[0m\u001b[1;33m\u001b[0m\u001b[1;33m\u001b[0m\u001b[0m\n",
      "\u001b[1;31mTypeError\u001b[0m: expected string or bytes-like object"
     ]
    }
   ],
   "source": [
    "pt_data = import_pt_data(run_time)\n",
    "new_pillsy_data = import_Pillsy(run_time)\n",
    "\n",
    "if pt_data and new_pillsy_data:\n",
    "\n",
    "    # From Pillsy data, computes the Rewards to send to Personalizer for each patient's Rank calls from yesterday's run.\n",
    "    find_rewards(new_pillsy_data, pt_data, run_time)\n",
    "\n",
    "    # using updated patient data (new pillsy + patient data), format the rewards to Personalizer into a dataframe\n",
    "    rewards_to_send = get_reward_update(pt_data, run_time)\n",
    "\n",
    "    # actual call to personalizer\n",
    "    send_rewards(rewards_to_send, client, run_time)\n",
    "\n",
    "export_pt_data(pt_data, \"reward\", run_time)"
   ]
  },
  {
   "cell_type": "markdown",
   "metadata": {},
   "source": [
    "## Import/Update Patients"
   ]
  },
  {
   "cell_type": "code",
   "execution_count": null,
   "metadata": {
    "pycharm": {
     "name": "#%%\n"
    }
   },
   "outputs": [],
   "source": [
    "redcap_data = import_redcap(run_time)\n",
    "pt_data = update_pt_data_with_redcap(redcap_data, pt_data, run_time)"
   ]
  },
  {
   "cell_type": "code",
   "execution_count": 5,
   "metadata": {
    "pycharm": {
     "name": "#%%\n"
    }
   },
   "outputs": [],
   "source": [
    "from redcap_parser import *\n",
    "# testing import_redcap\n",
    "run_time_redcaptest = run_time\n",
    "\n",
    "import_date = run_time_redcaptest.date()\n",
    "# Imports REDCap patients that are enrolling on an ongoing basis as a pandas data frame from a CSV\n",
    "redcap_filepath = str(import_date) + \"_redcap\" + '.csv'\n",
    "fp = os.path.join(\"..\", \"REDCap\", redcap_filepath)\n",
    "date_cols = [\"start_date\"]\n",
    "redcap = pd.read_csv(fp, sep=',', parse_dates=date_cols)\n",
    "redcap = redcap_vars_converter(redcap)\n",
    "\n",
    "pt_data = None\n",
    "pt_data = update_pt_data_with_redcap(redcap, pt_data, run_time)"
   ]
  },
  {
   "cell_type": "code",
   "execution_count": 6,
   "metadata": {},
   "outputs": [
    {
     "data": {
      "text/html": [
       "<div>\n",
       "<style scoped>\n",
       "    .dataframe tbody tr th:only-of-type {\n",
       "        vertical-align: middle;\n",
       "    }\n",
       "\n",
       "    .dataframe tbody tr th {\n",
       "        vertical-align: top;\n",
       "    }\n",
       "\n",
       "    .dataframe thead th {\n",
       "        text-align: right;\n",
       "    }\n",
       "</style>\n",
       "<table border=\"1\" class=\"dataframe\">\n",
       "  <thead>\n",
       "    <tr style=\"text-align: right;\">\n",
       "      <th></th>\n",
       "      <th>record_id</th>\n",
       "      <th>start_date</th>\n",
       "      <th>trial_day_counter</th>\n",
       "      <th>censor</th>\n",
       "      <th>censor_date</th>\n",
       "      <th>age</th>\n",
       "      <th>sex</th>\n",
       "      <th>num_years_dm_rx</th>\n",
       "      <th>hba1c</th>\n",
       "      <th>race_white</th>\n",
       "      <th>...</th>\n",
       "      <th>rank_id_social_t1</th>\n",
       "      <th>rank_id_content_t1</th>\n",
       "      <th>rank_id_reflective_t1</th>\n",
       "      <th>flag_send_reward_value_t2</th>\n",
       "      <th>reward_value_t2</th>\n",
       "      <th>rank_id_framingt_t2</th>\n",
       "      <th>rank_id_history_t2</th>\n",
       "      <th>rank_id_social_t2</th>\n",
       "      <th>rank_id_content_t2</th>\n",
       "      <th>rank_id_reflective_t2</th>\n",
       "    </tr>\n",
       "  </thead>\n",
       "  <tbody>\n",
       "    <tr>\n",
       "      <th>13</th>\n",
       "      <td>13</td>\n",
       "      <td>2020-11-04</td>\n",
       "      <td>0</td>\n",
       "      <td>0</td>\n",
       "      <td>2021-05-03</td>\n",
       "      <td>45-54</td>\n",
       "      <td>Not listed</td>\n",
       "      <td>1-2</td>\n",
       "      <td>7.5-8.0</td>\n",
       "      <td>1</td>\n",
       "      <td>...</td>\n",
       "      <td>NaN</td>\n",
       "      <td>NaN</td>\n",
       "      <td>NaN</td>\n",
       "      <td>NaN</td>\n",
       "      <td>NaN</td>\n",
       "      <td>NaN</td>\n",
       "      <td>NaN</td>\n",
       "      <td>NaN</td>\n",
       "      <td>NaN</td>\n",
       "      <td>NaN</td>\n",
       "    </tr>\n",
       "    <tr>\n",
       "      <th>14</th>\n",
       "      <td>14</td>\n",
       "      <td>2020-10-23</td>\n",
       "      <td>0</td>\n",
       "      <td>1</td>\n",
       "      <td>2021-04-21</td>\n",
       "      <td>55-64</td>\n",
       "      <td>F</td>\n",
       "      <td>3-4</td>\n",
       "      <td>8.1-8.9</td>\n",
       "      <td>0</td>\n",
       "      <td>...</td>\n",
       "      <td>NaN</td>\n",
       "      <td>NaN</td>\n",
       "      <td>NaN</td>\n",
       "      <td>NaN</td>\n",
       "      <td>NaN</td>\n",
       "      <td>NaN</td>\n",
       "      <td>NaN</td>\n",
       "      <td>NaN</td>\n",
       "      <td>NaN</td>\n",
       "      <td>NaN</td>\n",
       "    </tr>\n",
       "    <tr>\n",
       "      <th>15</th>\n",
       "      <td>15</td>\n",
       "      <td>2020-11-07</td>\n",
       "      <td>0</td>\n",
       "      <td>0</td>\n",
       "      <td>2021-05-06</td>\n",
       "      <td>75-84</td>\n",
       "      <td>M</td>\n",
       "      <td>5+</td>\n",
       "      <td>10+</td>\n",
       "      <td>0</td>\n",
       "      <td>...</td>\n",
       "      <td>NaN</td>\n",
       "      <td>NaN</td>\n",
       "      <td>NaN</td>\n",
       "      <td>NaN</td>\n",
       "      <td>NaN</td>\n",
       "      <td>NaN</td>\n",
       "      <td>NaN</td>\n",
       "      <td>NaN</td>\n",
       "      <td>NaN</td>\n",
       "      <td>NaN</td>\n",
       "    </tr>\n",
       "    <tr>\n",
       "      <th>16</th>\n",
       "      <td>16</td>\n",
       "      <td>2020-11-10</td>\n",
       "      <td>0</td>\n",
       "      <td>0</td>\n",
       "      <td>2021-05-09</td>\n",
       "      <td>75-84</td>\n",
       "      <td>Not listed</td>\n",
       "      <td>0</td>\n",
       "      <td>8.1-8.9</td>\n",
       "      <td>0</td>\n",
       "      <td>...</td>\n",
       "      <td>NaN</td>\n",
       "      <td>NaN</td>\n",
       "      <td>NaN</td>\n",
       "      <td>NaN</td>\n",
       "      <td>NaN</td>\n",
       "      <td>NaN</td>\n",
       "      <td>NaN</td>\n",
       "      <td>NaN</td>\n",
       "      <td>NaN</td>\n",
       "      <td>NaN</td>\n",
       "    </tr>\n",
       "    <tr>\n",
       "      <th>17</th>\n",
       "      <td>17</td>\n",
       "      <td>2020-11-07</td>\n",
       "      <td>0</td>\n",
       "      <td>0</td>\n",
       "      <td>2021-05-06</td>\n",
       "      <td>18-34</td>\n",
       "      <td>F</td>\n",
       "      <td>3-4</td>\n",
       "      <td>7.5-8.0</td>\n",
       "      <td>0</td>\n",
       "      <td>...</td>\n",
       "      <td>NaN</td>\n",
       "      <td>NaN</td>\n",
       "      <td>NaN</td>\n",
       "      <td>NaN</td>\n",
       "      <td>NaN</td>\n",
       "      <td>NaN</td>\n",
       "      <td>NaN</td>\n",
       "      <td>NaN</td>\n",
       "      <td>NaN</td>\n",
       "      <td>NaN</td>\n",
       "    </tr>\n",
       "    <tr>\n",
       "      <th>18</th>\n",
       "      <td>18</td>\n",
       "      <td>2020-09-16</td>\n",
       "      <td>0</td>\n",
       "      <td>1</td>\n",
       "      <td>2021-03-15</td>\n",
       "      <td>35-44</td>\n",
       "      <td>F</td>\n",
       "      <td>5+</td>\n",
       "      <td>9.0-9.9</td>\n",
       "      <td>0</td>\n",
       "      <td>...</td>\n",
       "      <td>NaN</td>\n",
       "      <td>NaN</td>\n",
       "      <td>NaN</td>\n",
       "      <td>NaN</td>\n",
       "      <td>NaN</td>\n",
       "      <td>NaN</td>\n",
       "      <td>NaN</td>\n",
       "      <td>NaN</td>\n",
       "      <td>NaN</td>\n",
       "      <td>NaN</td>\n",
       "    </tr>\n",
       "    <tr>\n",
       "      <th>19</th>\n",
       "      <td>19</td>\n",
       "      <td>2020-10-29</td>\n",
       "      <td>0</td>\n",
       "      <td>0</td>\n",
       "      <td>2021-04-27</td>\n",
       "      <td>65-74</td>\n",
       "      <td>M</td>\n",
       "      <td>3-4</td>\n",
       "      <td>7.5-8.0</td>\n",
       "      <td>0</td>\n",
       "      <td>...</td>\n",
       "      <td>NaN</td>\n",
       "      <td>NaN</td>\n",
       "      <td>NaN</td>\n",
       "      <td>NaN</td>\n",
       "      <td>NaN</td>\n",
       "      <td>NaN</td>\n",
       "      <td>NaN</td>\n",
       "      <td>NaN</td>\n",
       "      <td>NaN</td>\n",
       "      <td>NaN</td>\n",
       "    </tr>\n",
       "    <tr>\n",
       "      <th>20</th>\n",
       "      <td>20</td>\n",
       "      <td>2020-11-03</td>\n",
       "      <td>0</td>\n",
       "      <td>0</td>\n",
       "      <td>2021-05-02</td>\n",
       "      <td>65-74</td>\n",
       "      <td>M</td>\n",
       "      <td>0</td>\n",
       "      <td>8.1-8.9</td>\n",
       "      <td>0</td>\n",
       "      <td>...</td>\n",
       "      <td>NaN</td>\n",
       "      <td>NaN</td>\n",
       "      <td>NaN</td>\n",
       "      <td>NaN</td>\n",
       "      <td>NaN</td>\n",
       "      <td>NaN</td>\n",
       "      <td>NaN</td>\n",
       "      <td>NaN</td>\n",
       "      <td>NaN</td>\n",
       "      <td>NaN</td>\n",
       "    </tr>\n",
       "  </tbody>\n",
       "</table>\n",
       "<p>8 rows × 107 columns</p>\n",
       "</div>"
      ],
      "text/plain": [
       "   record_id start_date trial_day_counter censor censor_date    age  \\\n",
       "13        13 2020-11-04                 0      0  2021-05-03  45-54   \n",
       "14        14 2020-10-23                 0      1  2021-04-21  55-64   \n",
       "15        15 2020-11-07                 0      0  2021-05-06  75-84   \n",
       "16        16 2020-11-10                 0      0  2021-05-09  75-84   \n",
       "17        17 2020-11-07                 0      0  2021-05-06  18-34   \n",
       "18        18 2020-09-16                 0      1  2021-03-15  35-44   \n",
       "19        19 2020-10-29                 0      0  2021-04-27  65-74   \n",
       "20        20 2020-11-03                 0      0  2021-05-02  65-74   \n",
       "\n",
       "           sex num_years_dm_rx    hba1c race_white  ...  rank_id_social_t1  \\\n",
       "13  Not listed             1-2  7.5-8.0          1  ...                NaN   \n",
       "14           F             3-4  8.1-8.9          0  ...                NaN   \n",
       "15           M              5+      10+          0  ...                NaN   \n",
       "16  Not listed               0  8.1-8.9          0  ...                NaN   \n",
       "17           F             3-4  7.5-8.0          0  ...                NaN   \n",
       "18           F              5+  9.0-9.9          0  ...                NaN   \n",
       "19           M             3-4  7.5-8.0          0  ...                NaN   \n",
       "20           M               0  8.1-8.9          0  ...                NaN   \n",
       "\n",
       "    rank_id_content_t1  rank_id_reflective_t1 flag_send_reward_value_t2  \\\n",
       "13                 NaN                    NaN                       NaN   \n",
       "14                 NaN                    NaN                       NaN   \n",
       "15                 NaN                    NaN                       NaN   \n",
       "16                 NaN                    NaN                       NaN   \n",
       "17                 NaN                    NaN                       NaN   \n",
       "18                 NaN                    NaN                       NaN   \n",
       "19                 NaN                    NaN                       NaN   \n",
       "20                 NaN                    NaN                       NaN   \n",
       "\n",
       "   reward_value_t2 rank_id_framingt_t2  rank_id_history_t2  rank_id_social_t2  \\\n",
       "13             NaN                 NaN                 NaN                NaN   \n",
       "14             NaN                 NaN                 NaN                NaN   \n",
       "15             NaN                 NaN                 NaN                NaN   \n",
       "16             NaN                 NaN                 NaN                NaN   \n",
       "17             NaN                 NaN                 NaN                NaN   \n",
       "18             NaN                 NaN                 NaN                NaN   \n",
       "19             NaN                 NaN                 NaN                NaN   \n",
       "20             NaN                 NaN                 NaN                NaN   \n",
       "\n",
       "    rank_id_content_t2  rank_id_reflective_t2  \n",
       "13                 NaN                    NaN  \n",
       "14                 NaN                    NaN  \n",
       "15                 NaN                    NaN  \n",
       "16                 NaN                    NaN  \n",
       "17                 NaN                    NaN  \n",
       "18                 NaN                    NaN  \n",
       "19                 NaN                    NaN  \n",
       "20                 NaN                    NaN  \n",
       "\n",
       "[8 rows x 107 columns]"
      ]
     },
     "execution_count": 6,
     "metadata": {},
     "output_type": "execute_result"
    }
   ],
   "source": [
    "pt_data"
   ]
  },
  {
   "cell_type": "code",
   "execution_count": null,
   "metadata": {
    "pycharm": {
     "name": "#%%\n"
    }
   },
   "outputs": [],
   "source": [
    "import_date = run_time.date()\n",
    "# Imports REDCap patients that are enrolling on an ongoing basis as a pandas data frame from a CSV\n",
    "redcap_filepath = str(import_date) + \"_redcap\" + '.csv'\n",
    "fp = os.path.join(\"..\", \"..\", \"REDCap\", redcap_filepath)\n",
    "date_cols = [\"start_date\"]"
   ]
  },
  {
   "cell_type": "markdown",
   "metadata": {},
   "source": [
    "## Rank Step\n",
    "Call Personalizer to rank action features to find the correct text message to send today."
   ]
  },
  {
   "cell_type": "code",
   "execution_count": 7,
   "metadata": {
    "pycharm": {
     "name": "#%%\n"
    }
   },
   "outputs": [
    {
     "ename": "AttributeError",
     "evalue": "'Series' object has no attribute 'get_study_id'",
     "output_type": "error",
     "traceback": [
      "\u001b[1;31m---------------------------------------------------------------------------\u001b[0m",
      "\u001b[1;31mAttributeError\u001b[0m                            Traceback (most recent call last)",
      "\u001b[1;32m<ipython-input-7-74aad520636c>\u001b[0m in \u001b[0;36m<module>\u001b[1;34m\u001b[0m\n\u001b[0;32m      1\u001b[0m \u001b[1;32mfor\u001b[0m \u001b[0mindex\u001b[0m\u001b[1;33m,\u001b[0m \u001b[0mpatient\u001b[0m \u001b[1;32min\u001b[0m \u001b[0mpt_data\u001b[0m\u001b[1;33m.\u001b[0m\u001b[0miterrows\u001b[0m\u001b[1;33m(\u001b[0m\u001b[1;33m)\u001b[0m\u001b[1;33m:\u001b[0m\u001b[1;33m\u001b[0m\u001b[1;33m\u001b[0m\u001b[0m\n\u001b[0;32m      2\u001b[0m     \u001b[1;32mif\u001b[0m \u001b[0mpatient\u001b[0m\u001b[1;33m[\u001b[0m\u001b[1;34m\"censor\"\u001b[0m\u001b[1;33m]\u001b[0m \u001b[1;33m!=\u001b[0m \u001b[1;36m1\u001b[0m \u001b[1;32mand\u001b[0m \u001b[0mpatient\u001b[0m\u001b[1;33m[\u001b[0m\u001b[1;34m\"censor_date\"\u001b[0m\u001b[1;33m]\u001b[0m \u001b[1;33m>\u001b[0m \u001b[0mrun_time\u001b[0m\u001b[1;33m.\u001b[0m\u001b[0mdate\u001b[0m\u001b[1;33m(\u001b[0m\u001b[1;33m)\u001b[0m\u001b[1;33m:\u001b[0m\u001b[1;33m\u001b[0m\u001b[1;33m\u001b[0m\u001b[0m\n\u001b[1;32m----> 3\u001b[1;33m         \u001b[0mrun_ranking\u001b[0m\u001b[1;33m(\u001b[0m\u001b[0mpatient\u001b[0m\u001b[1;33m,\u001b[0m \u001b[0mclient\u001b[0m\u001b[1;33m,\u001b[0m \u001b[0mrun_time\u001b[0m\u001b[1;33m)\u001b[0m\u001b[1;33m\u001b[0m\u001b[1;33m\u001b[0m\u001b[0m\n\u001b[0m\u001b[0;32m      4\u001b[0m         \u001b[1;31m#need checks if pass by ref or val\u001b[0m\u001b[1;33m\u001b[0m\u001b[1;33m\u001b[0m\u001b[1;33m\u001b[0m\u001b[0m\n\u001b[0;32m      5\u001b[0m \u001b[0mexport_pt_data\u001b[0m\u001b[1;33m(\u001b[0m\u001b[0mpt_data\u001b[0m\u001b[1;33m,\u001b[0m \u001b[1;34m\"rank\"\u001b[0m\u001b[1;33m,\u001b[0m \u001b[0mrun_time\u001b[0m\u001b[1;33m)\u001b[0m \u001b[1;31m# log\u001b[0m\u001b[1;33m\u001b[0m\u001b[1;33m\u001b[0m\u001b[0m\n",
      "\u001b[1;32m~\\Dropbox (Partners HealthCare)\\SHARED -- REINFORCEMENT LEARNING\\bwh-pharmacoepi-roybal\\driverRank.py\u001b[0m in \u001b[0;36mrun_ranking\u001b[1;34m(patient, client, run_time)\u001b[0m\n\u001b[0;32m     33\u001b[0m \u001b[1;32mdef\u001b[0m \u001b[0mrun_ranking\u001b[0m\u001b[1;33m(\u001b[0m\u001b[0mpatient\u001b[0m\u001b[1;33m,\u001b[0m \u001b[0mclient\u001b[0m\u001b[1;33m,\u001b[0m \u001b[0mrun_time\u001b[0m\u001b[1;33m)\u001b[0m\u001b[1;33m:\u001b[0m\u001b[1;33m\u001b[0m\u001b[1;33m\u001b[0m\u001b[0m\n\u001b[0;32m     34\u001b[0m     \u001b[1;31m# framing\u001b[0m\u001b[1;33m\u001b[0m\u001b[1;33m\u001b[0m\u001b[1;33m\u001b[0m\u001b[0m\n\u001b[1;32m---> 35\u001b[1;33m     \u001b[0mrank_id_framing\u001b[0m \u001b[1;33m=\u001b[0m \u001b[0mstr\u001b[0m\u001b[1;33m(\u001b[0m\u001b[0mpatient\u001b[0m\u001b[1;33m.\u001b[0m\u001b[0mget_study_id\u001b[0m\u001b[1;33m(\u001b[0m\u001b[1;33m)\u001b[0m \u001b[1;33m+\u001b[0m \u001b[1;34m\"_\"\u001b[0m \u001b[1;33m+\u001b[0m \u001b[0mpatient\u001b[0m\u001b[1;33m.\u001b[0m\u001b[0mtrial_day_counter\u001b[0m \u001b[1;33m+\u001b[0m \u001b[1;34m\"_frame\"\u001b[0m\u001b[1;33m)\u001b[0m\u001b[1;33m\u001b[0m\u001b[1;33m\u001b[0m\u001b[0m\n\u001b[0m\u001b[0;32m     36\u001b[0m     \u001b[0mpatient\u001b[0m\u001b[1;33m[\u001b[0m\u001b[1;34m\"rank_id_framing_t0\"\u001b[0m\u001b[1;33m]\u001b[0m \u001b[1;33m=\u001b[0m \u001b[0mrank_id_framing\u001b[0m\u001b[1;33m\u001b[0m\u001b[1;33m\u001b[0m\u001b[0m\n\u001b[0;32m     37\u001b[0m     \u001b[0mcontext\u001b[0m \u001b[1;33m=\u001b[0m \u001b[0mget_framing_context\u001b[0m\u001b[1;33m(\u001b[0m\u001b[0mpatient\u001b[0m\u001b[1;33m)\u001b[0m\u001b[1;33m\u001b[0m\u001b[1;33m\u001b[0m\u001b[0m\n",
      "\u001b[1;32mc:\\users\\lg436\\dropbox (partners healthcare)\\shared -- reinforcement learning\\bwh-pharmacoepi-roybal\\lib\\site-packages\\pandas\\core\\generic.py\u001b[0m in \u001b[0;36m__getattr__\u001b[1;34m(self, name)\u001b[0m\n\u001b[0;32m   5137\u001b[0m             \u001b[1;32mif\u001b[0m \u001b[0mself\u001b[0m\u001b[1;33m.\u001b[0m\u001b[0m_info_axis\u001b[0m\u001b[1;33m.\u001b[0m\u001b[0m_can_hold_identifiers_and_holds_name\u001b[0m\u001b[1;33m(\u001b[0m\u001b[0mname\u001b[0m\u001b[1;33m)\u001b[0m\u001b[1;33m:\u001b[0m\u001b[1;33m\u001b[0m\u001b[1;33m\u001b[0m\u001b[0m\n\u001b[0;32m   5138\u001b[0m                 \u001b[1;32mreturn\u001b[0m \u001b[0mself\u001b[0m\u001b[1;33m[\u001b[0m\u001b[0mname\u001b[0m\u001b[1;33m]\u001b[0m\u001b[1;33m\u001b[0m\u001b[1;33m\u001b[0m\u001b[0m\n\u001b[1;32m-> 5139\u001b[1;33m             \u001b[1;32mreturn\u001b[0m \u001b[0mobject\u001b[0m\u001b[1;33m.\u001b[0m\u001b[0m__getattribute__\u001b[0m\u001b[1;33m(\u001b[0m\u001b[0mself\u001b[0m\u001b[1;33m,\u001b[0m \u001b[0mname\u001b[0m\u001b[1;33m)\u001b[0m\u001b[1;33m\u001b[0m\u001b[1;33m\u001b[0m\u001b[0m\n\u001b[0m\u001b[0;32m   5140\u001b[0m \u001b[1;33m\u001b[0m\u001b[0m\n\u001b[0;32m   5141\u001b[0m     \u001b[1;32mdef\u001b[0m \u001b[0m__setattr__\u001b[0m\u001b[1;33m(\u001b[0m\u001b[0mself\u001b[0m\u001b[1;33m,\u001b[0m \u001b[0mname\u001b[0m\u001b[1;33m:\u001b[0m \u001b[0mstr\u001b[0m\u001b[1;33m,\u001b[0m \u001b[0mvalue\u001b[0m\u001b[1;33m)\u001b[0m \u001b[1;33m->\u001b[0m \u001b[1;32mNone\u001b[0m\u001b[1;33m:\u001b[0m\u001b[1;33m\u001b[0m\u001b[1;33m\u001b[0m\u001b[0m\n",
      "\u001b[1;31mAttributeError\u001b[0m: 'Series' object has no attribute 'get_study_id'"
     ]
    }
   ],
   "source": [
    "for index, patient in pt_data.iterrows():\n",
    "    if patient[\"censor\"] != 1 and patient[\"censor_date\"] > run_time.date():\n",
    "        run_ranking(patient, client, run_time)\n",
    "        #need checks if pass by ref or val\n",
    "export_pt_data(pt_data, \"rank\", run_time) # log"
   ]
  },
  {
   "cell_type": "markdown",
   "metadata": {},
   "source": [
    "## Output SMS and Patient Data"
   ]
  },
  {
   "cell_type": "code",
   "execution_count": null,
   "metadata": {
    "pycharm": {
     "name": "#%%\n"
    }
   },
   "outputs": [],
   "source": [
    "write_sms_history(pt_data, run_time)\n",
    "export_pt_data(pt_data, \"final\", run_time) # input for tomorrow\n",
    "check_control_disconnectedness(run_time) # check whether controls have connection problems"
   ]
  },
  {
   "cell_type": "markdown",
   "metadata": {},
   "source": [
    "To Do List:\n",
    "  * Executability by RA / User friendliness\n",
    "    * [x] - Lily done by using Jupyter notebook - Making this more user friendly than a  Command Line\n",
    "    * [ ] - JOE TODO / help brainstorm - make jupyter notebook pretty and write a how to document for new non CS person to be able to execute this from Jupyter notebook\n",
    "    * [ ] - JOE TODO / help brainstorm - Making this more user friendly than a Jupyter Notebook - to do by doing a main.py executable bash script\n",
    "    * [ ] - JOE TODO / help brainstorm - Hooks into Pillsy/RedCap for data retrieval - need check in with constance for pillsy and ellen for redcap\n",
    "    * [ ] - JOE TODO / help brainstorm - (probably not feasible) Hooks into SMS Platform to automate text sending - need check in with constance\n",
    "    * [ ] - JOE TODO / help brainstorm - how to handle the definite 1 human entered variable of personalizer key - file to direct to or? - maybe as marco/elad\n",
    "    * [ ] - Lily/JOE TODO / help - try to break this code in any way possible\n",
    "    * [ ] - Lily/JOE TODO / help - debug, unit testing\n",
    "    * [ ] - Lily/JOE TODO / help - run it fully several times based in dropbox together\n",
    "    * [ ] - Lily/JOE TODO / help - Make a log file that will report high level information from running this like a run summary\n",
    "        * elements to include:\n",
    "            * start and end time of the run\n",
    "            * how many patients were read in from each import statement\n",
    "            * how many reward calls were successfull made\n",
    "            * how many rank calls were successfull made\n",
    "            * any other meta data that will help us debug and ensure this is all working as planned\n",
    "\n",
    "\n"
   ]
  }
 ],
 "metadata": {
  "kernelspec": {
   "display_name": "Python 3",
   "language": "python",
   "name": "python3"
  },
  "language_info": {
   "codemirror_mode": {
    "name": "ipython",
    "version": 3
   },
   "file_extension": ".py",
   "mimetype": "text/x-python",
   "name": "python",
   "nbconvert_exporter": "python",
   "pygments_lexer": "ipython3",
   "version": "3.7.7"
  }
 },
 "nbformat": 4,
 "nbformat_minor": 1
}
