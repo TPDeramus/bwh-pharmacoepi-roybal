{
 "cells": [
  {
   "cell_type": "markdown",
   "metadata": {},
   "source": [
    "## Reinforcement Learning for SMS Messaging to Improve Medication Adherence - Roybal"
   ]
  },
  {
   "cell_type": "code",
   "execution_count": 9,
   "metadata": {
    "pycharm": {
     "name": "#%%\n"
    }
   },
   "outputs": [],
   "source": [
    "import sys\n",
    "import time\n",
    "import dateutil\n",
    "from azure.cognitiveservices.personalizer import PersonalizerClient\n",
    "from azure.cognitiveservices.personalizer.models import RankRequest\n",
    "from msrest.authentication import CognitiveServicesCredentials\n",
    "import pandas as pd\n",
    "import numpy as np\n",
    "import math\n",
    "import time\n",
    "from datetime import datetime\n",
    "from collections import Counter\n",
    "import string\n",
    "import pickle\n",
    "import json\n",
    "import pytz\n",
    "import os\n",
    "import re"
   ]
  },
  {
   "cell_type": "code",
   "execution_count": 10,
   "metadata": {
    "pycharm": {
     "name": "#%%\n"
    }
   },
   "outputs": [],
   "source": [
    "from patient_data import import_pt_data,export_pt_data, new_empty_pt_data\n",
    "from pillsy_parser import import_Pillsy, find_rewards\n",
    "from driverReward import get_reward_update,send_rewards\n",
    "from redcap_parser import import_redcap, update_pt_data_with_redcap\n",
    "from driverRank import run_ranking, write_sms_history\n",
    "from control_disconnection import check_control_disconnectedness"
   ]
  },
  {
   "cell_type": "markdown",
   "metadata": {},
   "source": [
    "### Start Program Timer"
   ]
  },
  {
   "cell_type": "code",
   "execution_count": 11,
   "metadata": {
    "pycharm": {
     "name": "#%%\n"
    }
   },
   "outputs": [
    {
     "data": {
      "text/plain": [
       "datetime.datetime(2020, 11, 23, 10, 30, tzinfo=<DstTzInfo 'America/New_York' EST-1 day, 19:00:00 STD>)"
      ]
     },
     "execution_count": 11,
     "metadata": {},
     "output_type": "execute_result"
    }
   ],
   "source": [
    "# run_time = datetime.now()\n",
    "# testing_flag = input(\"Testing with another date? y/n: \")\n",
    "# if testing_flag.lower() == \"y\":\n",
    "#     print(\"Set testing run time: \")\n",
    "#     run_time_yyyy_mm_dd_input = input(\"Enter the testing date: YYYY-MM-DD \")\n",
    "#     timestamp = \"10:30 AM \" + run_time_yyyy_mm_dd_input\n",
    "#     run_time = dateutil.parser.parse(timestamp)\n",
    "# run_time = pytz.timezone(\"America/New_York\").localize(run_time)\n",
    "# run_time\n",
    "\n",
    "run_time = pytz.timezone(\"America/New_York\").localize(dateutil.parser.parse(\"10:30 AM 2020-11-23\"))\n",
    "run_time"
   ]
  },
  {
   "cell_type": "markdown",
   "metadata": {},
   "source": [
    "### Set Up MS Azure Personalizer Client\n",
    "\n",
    "Defining and Instantiating a Personalizer Client:\n",
    "\n",
    "Personalizer Keys:\n",
    "* In the Microsoft Azure Dashboard, navigate to our bwh-pharmacoepi-roybal-dev-use2-cog Cognitive Services page.\n",
    "* Within the Keys and Endpoint section, copy either Key 1 or Key 2 to enter as the Personalizer Key.\n",
    "\n",
    "Personalizer Endpoint:\n",
    "* https://bwh-pharmacoepi-roybal-dev-use2-cog.cognitiveservices.azure.com/"
   ]
  },
  {
   "cell_type": "code",
   "execution_count": 12,
   "metadata": {
    "pycharm": {
     "name": "#%%\n"
    }
   },
   "outputs": [],
   "source": [
    "with open(os.path.join(\"..\", \".keys\", \"azure-personalizer-key.txt\"), 'r') as f:\n",
    "     personalizer_key = f.read().rstrip()\n",
    "personalizer_endpoint = \"https://bwh-pharmacoepi-roybal-dev-use2-cog.cognitiveservices.azure.com/\"\n",
    "client = PersonalizerClient(personalizer_endpoint, CognitiveServicesCredentials(personalizer_key))"
   ]
  },
  {
   "cell_type": "markdown",
   "metadata": {},
   "source": [
    "## Reward Step\n",
    "\n",
    "If we've already initiated the trial, we will have:\n",
    "* Pre-existing patient dataset in need of reward updates\n",
    "* Pillsy data from yesterday to determine reward\n",
    "If this is study initiation, this step will just load an empty patient dictionary and null pillsy dataset."
   ]
  },
  {
   "cell_type": "code",
   "execution_count": 13,
   "metadata": {
    "pycharm": {
     "name": "#%%\n"
    }
   },
   "outputs": [],
   "source": [
    "pt_data = import_pt_data(run_time)\n",
    "new_pillsy_data = import_Pillsy(run_time)\n",
    "\n",
    "if not pt_data.empty and not new_pillsy_data.empty:\n",
    "\n",
    "    # From Pillsy data, computes the Rewards to send to Personalizer for each patient's Rank calls from yesterday's run.\n",
    "    pt_data = find_rewards(new_pillsy_data, pt_data, run_time)\n",
    "\n",
    "    # using updated patient data (new pillsy + patient data), format the rewards to Personalizer into a dataframe\n",
    "    rewards_to_send = get_reward_update(pt_data, run_time)\n",
    "\n",
    "    # actual call to personalizer\n",
    "    send_rewards(rewards_to_send, client)\n",
    "    export_pt_data(pt_data, run_time, \"reward\")"
   ]
  },
  {
   "cell_type": "markdown",
   "metadata": {},
   "source": [
    "## Import/Update Patients"
   ]
  },
  {
   "cell_type": "code",
   "execution_count": 14,
   "metadata": {
    "pycharm": {
     "name": "#%%\n"
    }
   },
   "outputs": [],
   "source": [
    "redcap_data = import_redcap(run_time)\n",
    "pt_data = update_pt_data_with_redcap(redcap_data, pt_data, run_time)"
   ]
  },
  {
   "cell_type": "markdown",
   "metadata": {},
   "source": [
    "## Rank Step\n",
    "Call Personalizer to rank action features to find the correct text message to send today."
   ]
  },
  {
   "cell_type": "code",
   "execution_count": 15,
   "metadata": {
    "pycharm": {
     "name": "#%%\n"
    }
   },
   "outputs": [
    {
     "name": "stdout",
     "output_type": "stream",
     "text": [
      "rankresult 1 1 0 1 1\n",
      "    factor_set  text_number  \\\n",
      "70          26           71   \n",
      "71          26           72   \n",
      "72          26           73   \n",
      "\n",
      "                                         text_message  framing_sms  \\\n",
      "70  Did you know you took your medicine X out of t...            1   \n",
      "71  In the last week, you took your medicine X day...            1   \n",
      "72  How do you think you are doing with your daily...            1   \n",
      "\n",
      "    history_sms  social_sms  content_sms  reflective_sms  quantitative_sms  \\\n",
      "70            1           0            1               1                 0   \n",
      "71            1           0            1               1                 0   \n",
      "72            1           0            1               1                 0   \n",
      "\n",
      "    doctor_sms  lifestyle_sms  \n",
      "70           0              1  \n",
      "71           1              0  \n",
      "72           0              0  \n",
      "rankresult 0 0 1 0 1\n",
      "    factor_set  text_number  \\\n",
      "9            4           10   \n",
      "10           4           11   \n",
      "11           4           12   \n",
      "\n",
      "                                         text_message  framing_sms  \\\n",
      "9   Have you taken your medicine yet? Please take ...            0   \n",
      "10  Hi, have you taken your medicine today? You co...            0   \n",
      "11  Who are some of your loved ones you'd like to ...            0   \n",
      "\n",
      "    history_sms  social_sms  content_sms  reflective_sms  quantitative_sms  \\\n",
      "9             0           1            0               1                 0   \n",
      "10            0           1            0               1                 0   \n",
      "11            0           1            0               1                 0   \n",
      "\n",
      "    doctor_sms  lifestyle_sms  \n",
      "9            0              0  \n",
      "10           0              0  \n",
      "11           0              0  \n",
      "rankresult 1 0 1 1 0\n",
      "    factor_set  text_number  \\\n",
      "62          23           63   \n",
      "63          23           64   \n",
      "64          23           65   \n",
      "\n",
      "                                         text_message  framing_sms  \\\n",
      "62  Taking your medicine prescribed by your doctor...            1   \n",
      "63  Asking your loved ones for help taking your me...            1   \n",
      "64  For best results, pair your daily medicine wit...            1   \n",
      "\n",
      "    history_sms  social_sms  content_sms  reflective_sms  quantitative_sms  \\\n",
      "62            0           1            1               0                 0   \n",
      "63            0           1            1               0                 0   \n",
      "64            0           1            1               0                 0   \n",
      "\n",
      "    doctor_sms  lifestyle_sms  \n",
      "62           1              0  \n",
      "63           0              1  \n",
      "64           0              1  \n",
      "rankresult 2 0 1 0 1\n",
      "    factor_set  text_number  \\\n",
      "97          36           98   \n",
      "98          36           99   \n",
      "99          36          100   \n",
      "\n",
      "                                         text_message  framing_sms  \\\n",
      "97  Are you missing any doses of your medicine? Do...            2   \n",
      "98  Did you know that taking care of yourself keep...            2   \n",
      "99  How are you doing following your doctor's reco...            2   \n",
      "\n",
      "    history_sms  social_sms  content_sms  reflective_sms  quantitative_sms  \\\n",
      "97            0           1            0               1                 0   \n",
      "98            0           1            0               1                 0   \n",
      "99            0           1            0               1                 0   \n",
      "\n",
      "    doctor_sms  lifestyle_sms  \n",
      "97           0              0  \n",
      "98           0              0  \n",
      "99           1              0  \n",
      "rankresult 1 1 0 0 1\n",
      "    factor_set  text_number  \\\n",
      "65          24           66   \n",
      "66          24           67   \n",
      "67          24           68   \n",
      "\n",
      "                                         text_message  framing_sms  \\\n",
      "65  You took your medicine X days in the last week...            1   \n",
      "66  In the last week, you took your medicine X day...            1   \n",
      "67  Hi, did you know that you took your medicine X...            1   \n",
      "\n",
      "    history_sms  social_sms  content_sms  reflective_sms  quantitative_sms  \\\n",
      "65            1           0            0               1                 0   \n",
      "66            1           0            0               1                 0   \n",
      "67            1           0            0               1                 0   \n",
      "\n",
      "    doctor_sms  lifestyle_sms  \n",
      "65           0              0  \n",
      "66           0              0  \n",
      "67           0              1  \n",
      "rankresult 1 1 0 0 0\n",
      "    factor_set  text_number  \\\n",
      "68          25           69   \n",
      "69          25           70   \n",
      "\n",
      "                                         text_message  framing_sms  \\\n",
      "68  You took your medicine X days in the last week...            1   \n",
      "69  In the last week, you took your medicine X day...            1   \n",
      "\n",
      "    history_sms  social_sms  content_sms  reflective_sms  quantitative_sms  \\\n",
      "68            1           0            0               0                 0   \n",
      "69            1           0            0               0                 0   \n",
      "\n",
      "    doctor_sms  lifestyle_sms  \n",
      "68           0              0  \n",
      "69           0              0  \n"
     ]
    }
   ],
   "source": [
    "ranked_pt_data = new_empty_pt_data()\n",
    "for index, patient in pt_data.iterrows():\n",
    "    if patient[\"censor\"] != 1 and patient[\"censor_date\"] > run_time.date():\n",
    "        patient = run_ranking(patient, client, run_time)\n",
    "        ranked_pt_data = ranked_pt_data.append(patient)\n",
    "        #need checks if pass by ref or val\n",
    "export_pt_data(ranked_pt_data, run_time, \"rank\") # log"
   ]
  },
  {
   "cell_type": "markdown",
   "metadata": {},
   "source": [
    "## Output SMS and Patient Data"
   ]
  },
  {
   "cell_type": "code",
   "execution_count": 16,
   "metadata": {
    "pycharm": {
     "name": "#%%\n"
    }
   },
   "outputs": [],
   "source": [
    "write_sms_history(ranked_pt_data, run_time)\n",
    "export_pt_data(ranked_pt_data, run_time, \"final\") # input for tomorrow\n",
    "check_control_disconnectedness(run_time) # check whether controls have connection problems"
   ]
  },
  {
   "cell_type": "markdown",
   "metadata": {},
   "source": [
    "To Do List:\n",
    "  * Executability by RA / User friendliness\n",
    "    * [x] - Lily done by using Jupyter notebook - Making this more user friendly than a  Command Line\n",
    "    * [ ] - JOE TODO / help brainstorm - make jupyter notebook pretty and write a how to document for new non CS person to be able to execute this from Jupyter notebook\n",
    "    * [ ] - JOE TODO / help brainstorm - Making this more user friendly than a Jupyter Notebook - to do by doing a main.py executable bash script\n",
    "    * [ ] - JOE TODO / help brainstorm - Hooks into Pillsy/RedCap for data retrieval - need check in with constance for pillsy and ellen for redcap\n",
    "    * [ ] - JOE TODO / help brainstorm - (probably not feasible) Hooks into SMS Platform to automate text sending - need check in with constance\n",
    "    * [ ] - JOE TODO / help brainstorm - how to handle the definite 1 human entered variable of personalizer key - file to direct to or? - maybe as marco/elad\n",
    "    * [ ] - Lily/JOE TODO / help - try to break this code in any way possible\n",
    "    * [ ] - Lily/JOE TODO / help - debug, unit testing\n",
    "    * [ ] - Lily/JOE TODO / help - run it fully several times based in dropbox together\n",
    "    * [ ] - Lily/JOE TODO / help - Make a log file that will report high level information from running this like a run summary\n",
    "        * elements to include:\n",
    "            * start and end time of the run\n",
    "            * how many patients were read in from each import statement\n",
    "            * how many reward calls were successfull made\n",
    "            * how many rank calls were successfull made\n",
    "            * any other meta data that will help us debug and ensure this is all working as planned\n",
    "\n",
    "\n"
   ]
  }
 ],
 "metadata": {
  "kernelspec": {
   "display_name": "Python 3",
   "language": "python",
   "name": "python3"
  },
  "language_info": {
   "codemirror_mode": {
    "name": "ipython",
    "version": 3
   },
   "file_extension": ".py",
   "mimetype": "text/x-python",
   "name": "python",
   "nbconvert_exporter": "python",
   "pygments_lexer": "ipython3",
   "version": "3.7.7"
  }
 },
 "nbformat": 4,
 "nbformat_minor": 1
}
