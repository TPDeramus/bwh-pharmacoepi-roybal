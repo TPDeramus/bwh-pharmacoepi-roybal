{
 "cells": [
  {
   "cell_type": "markdown",
   "metadata": {},
   "source": [
    "Reinforcement Learning for SMS Messaging to Improve Medication Adherence - Roybal"
   ]
  },
  {
   "cell_type": "markdown",
   "metadata": {},
   "source": [
    "Import necessary packages"
   ]
  },
  {
   "cell_type": "code",
   "execution_count": 5,
   "metadata": {},
   "outputs": [],
   "source": [
    "import sys\n",
    "import time\n",
    "from azure.cognitiveservices.personalizer import PersonalizerClient\n",
    "from azure.cognitiveservices.personalizer.models import RankRequest\n",
    "from msrest.authentication import CognitiveServicesCredentials\n",
    "import pandas as pd\n",
    "import numpy as np\n",
    "import math\n",
    "import time\n",
    "from datetime import datetime\n",
    "from collections import Counter\n",
    "import string\n",
    "import pickle\n",
    "import json"
   ]
  },
  {
   "cell_type": "markdown",
   "metadata": {
    "pycharm": {
     "name": "#%% md\n"
    }
   },
   "source": [
    "Imports from Local Files"
   ]
  },
  {
   "cell_type": "code",
   "execution_count": 4,
   "metadata": {
    "pycharm": {
     "name": "#%%\n"
    }
   },
   "outputs": [],
   "source": [
    "from input.data_input_functions import import_Pillsy, import_redcap, load_dict_pickle\n",
    "from preprocessing.pillsy import get_pillsy_study_ids, find_rewards, update_pt_dict, get_reward_update\n",
    "from ranking.driverRank import run_ranking\n",
    "from rewarding.driverReward import send_rewards\n",
    "from preprocessing.redcap import get_redcap_study_ids,update_patient_dict_redcap\n",
    "from output.data_output_functions import export_post_rank_pickle"
   ]
  },
  {
   "cell_type": "markdown",
   "metadata": {
    "pycharm": {
     "name": "#%% md\n"
    }
   },
   "source": [
    "Start Program Timer & Set Up MS Azure Personalizer Client"
   ]
  },
  {
   "cell_type": "code",
   "execution_count": 23,
   "metadata": {
    "pycharm": {
     "name": "#%%\n"
    }
   },
   "outputs": [],
   "source": [
    "start_time = time.time()"
   ]
  },
  {
   "cell_type": "markdown",
   "metadata": {},
   "source": [
    "Personalizer Keys:\n",
    "In the Microsoft Azure Dashboard, navigate to our bwh-pharmacoepi-roybal-dev-use2-cog Cognitive Services page.\n",
    " Within the Keys and Endpoint section, copy either Key 1 or Key 2 to enter as the Personalizer Key."
   ]
  },
  {
   "cell_type": "code",
   "execution_count": 24,
   "metadata": {
    "pycharm": {
     "name": "#%%\n"
    }
   },
   "outputs": [
    {
     "name": "stdout",
     "output_type": "stream",
     "text": [
      "ENTER PERSONALIZER KEY: \n",
      "1beebd47bed0488ea3641a27e7a66620\n"
     ]
    }
   ],
   "source": [
    "personalizer_key = input(\"ENTER PERSONALIZER KEY: \\n\")"
   ]
  },
  {
   "cell_type": "markdown",
   "metadata": {},
   "source": [
    "Personalizer Endpoint:\n",
    "https://bwh-pharmacoepi-roybal-dev-use2-cog.cognitiveservices.azure.com/"
   ]
  },
  {
   "cell_type": "code",
   "execution_count": 25,
   "metadata": {
    "pycharm": {
     "name": "#%%\n"
    }
   },
   "outputs": [
    {
     "name": "stdout",
     "output_type": "stream",
     "text": [
      "ENTER PERSONALIZER ENDPOINT: \n",
      "https://bwh-pharmacoepi-roybal-dev-use2-cog.cognitiveservices.azure.com/\n"
     ]
    }
   ],
   "source": [
    "personalizer_endpoint = input(\"ENTER PERSONALIZER ENDPOINT: \\n\")"
   ]
  },
  {
   "cell_type": "markdown",
   "metadata": {},
   "source": [
    "Instantiates PersonalizerClient"
   ]
  },
  {
   "cell_type": "code",
   "execution_count": 26,
   "metadata": {
    "pycharm": {
     "name": "#%%\n"
    }
   },
   "outputs": [],
   "source": [
    "client = PersonalizerClient(personalizer_endpoint, CognitiveServicesCredentials(personalizer_key))"
   ]
  },
  {
   "cell_type": "markdown",
   "metadata": {},
   "source": [
    "Check whether this is the first run."
   ]
  },
  {
   "cell_type": "code",
   "execution_count": 6,
   "metadata": {
    "pycharm": {
     "name": "#%%\n"
    }
   },
   "outputs": [],
   "source": [
    "start = input(\"Trial Initiation? Y/N: \")"
   ]
  },
  {
   "cell_type": "markdown",
   "metadata": {},
   "source": [
    "If we've already initiated the trial, we will have:\n",
    "* Pre-existing patient dataset in need of reward updates\n",
    "* Pillsy data from yesterday to determine reward\n",
    "\n",
    "Example Pillsy Inputs:\n",
    "* MAC:  /Users/lilybessette/Dropbox (Partners HealthCare)/SHARED -- REINFORCEMENT LEARNING/Pillsy/PILLSY_Full Sample_CF.csv\n",
    "* PC:   C:\\Users\\lg436\\Dropbox (Partners HealthCare)\\SHARED -- REINFORCEMENT LEARNING\\Pillsy\\PILLSY_Full Sample_CF.csv\n",
    "\n",
    "Example Patient Data Inputs:\n",
    "* MAC:  /Users/lilybessette/Dropbox (Partners HealthCare)/SHARED -- REINFORCEMENT LEARNING/PatientData/\n",
    "* PC:   C:\\Users\\lg436\\Dropbox (Partners HealthCare)\\SHARED -- REINFORCEMENT LEARNING\\PatientData\n",
    "\n",
    "*To Do: Need to make example patieent data picklee*"
   ]
  },
  {
   "cell_type": "code",
   "execution_count": 7,
   "metadata": {
    "pycharm": {
     "name": "#%%\n"
    }
   },
   "outputs": [
    {
     "ename": "FileNotFoundError",
     "evalue": "[Errno 2] No such file or directory: '../../PatientData/2020-11-21_patient_dict.pickle'",
     "output_type": "error",
     "traceback": [
      "\u001B[0;31m---------------------------------------------------------------------------\u001B[0m",
      "\u001B[0;31mFileNotFoundError\u001B[0m                         Traceback (most recent call last)",
      "\u001B[0;32m<ipython-input-7-fe050168705b>\u001B[0m in \u001B[0;36m<module>\u001B[0;34m\u001B[0m\n\u001B[1;32m      1\u001B[0m \u001B[0;32mif\u001B[0m \u001B[0mstart\u001B[0m\u001B[0;34m.\u001B[0m\u001B[0mlower\u001B[0m\u001B[0;34m(\u001B[0m\u001B[0;34m)\u001B[0m \u001B[0;34m==\u001B[0m \u001B[0;34m\"n\"\u001B[0m\u001B[0;34m:\u001B[0m\u001B[0;34m\u001B[0m\u001B[0;34m\u001B[0m\u001B[0m\n\u001B[0;32m----> 2\u001B[0;31m     \u001B[0mpt_dict\u001B[0m \u001B[0;34m=\u001B[0m \u001B[0mload_dict_pickle\u001B[0m\u001B[0;34m(\u001B[0m\u001B[0;34m)\u001B[0m\u001B[0;34m\u001B[0m\u001B[0;34m\u001B[0m\u001B[0m\n\u001B[0m\u001B[1;32m      3\u001B[0m     \u001B[0mnew_pillsy_data\u001B[0m \u001B[0;34m=\u001B[0m \u001B[0mimport_Pillsy\u001B[0m\u001B[0;34m(\u001B[0m\u001B[0;34m)\u001B[0m\u001B[0;34m\u001B[0m\u001B[0;34m\u001B[0m\u001B[0m\n\u001B[1;32m      4\u001B[0m \u001B[0;34m\u001B[0m\u001B[0m\n\u001B[1;32m      5\u001B[0m     \u001B[0;31m# Extract list of study_id's in the Pillsy Data.\u001B[0m\u001B[0;34m\u001B[0m\u001B[0;34m\u001B[0m\u001B[0;34m\u001B[0m\u001B[0m\n",
      "\u001B[0;32m~/BWH_DoPE/bwh-pharmacoepi-roybal/input/data_input_functions.py\u001B[0m in \u001B[0;36mload_dict_pickle\u001B[0;34m()\u001B[0m\n\u001B[1;32m     32\u001B[0m     \u001B[0;31m# Used to represent the current patient data\u001B[0m\u001B[0;34m\u001B[0m\u001B[0;34m\u001B[0m\u001B[0;34m\u001B[0m\u001B[0m\n\u001B[1;32m     33\u001B[0m     \u001B[0;31m#   - i.e. before update with Pillsy from yesterday / what would be used for tomorrow's run\u001B[0m\u001B[0;34m\u001B[0m\u001B[0;34m\u001B[0m\u001B[0;34m\u001B[0m\u001B[0m\n\u001B[0;32m---> 34\u001B[0;31m     \u001B[0;32mwith\u001B[0m \u001B[0mopen\u001B[0m\u001B[0;34m(\u001B[0m\u001B[0mfp\u001B[0m\u001B[0;34m,\u001B[0m \u001B[0;34m'rb'\u001B[0m\u001B[0;34m)\u001B[0m \u001B[0;32mas\u001B[0m \u001B[0mpfile\u001B[0m\u001B[0;34m:\u001B[0m\u001B[0;34m\u001B[0m\u001B[0;34m\u001B[0m\u001B[0m\n\u001B[0m\u001B[1;32m     35\u001B[0m         \u001B[0mpickle_dict\u001B[0m \u001B[0;34m=\u001B[0m \u001B[0mpickle\u001B[0m\u001B[0;34m.\u001B[0m\u001B[0mload\u001B[0m\u001B[0;34m(\u001B[0m\u001B[0mpfile\u001B[0m\u001B[0;34m)\u001B[0m\u001B[0;34m\u001B[0m\u001B[0;34m\u001B[0m\u001B[0m\n\u001B[1;32m     36\u001B[0m     \u001B[0;32mreturn\u001B[0m \u001B[0mpickle_dict\u001B[0m\u001B[0;34m\u001B[0m\u001B[0;34m\u001B[0m\u001B[0m\n",
      "\u001B[0;31mFileNotFoundError\u001B[0m: [Errno 2] No such file or directory: '../../PatientData/2020-11-21_patient_dict.pickle'"
     ]
    }
   ],
   "source": [
    "if start.lower() == \"n\":\n",
    "    pt_dict = load_dict_pickle()\n",
    "    new_pillsy_data = import_Pillsy()\n",
    "\n",
    "    # Extract list of study_id's in the Pillsy Data.\n",
    "    pillsy_study_ids_list = get_pillsy_study_ids(new_pillsy_data)\n",
    "    # From Pillsy data, computes the Rewards to send to Personalizer for each patient's Rank calls from yesterday's run.\n",
    "    pt_dict_with_reward, pt_dict_without_reward = find_rewards(new_pillsy_data,pillsy_study_ids_list,pt_dict)\n",
    "\n",
    "    # Using this updated Pillsy-Patient data, we send rewards to Personalizer\n",
    "    rewards_to_send = get_reward_update(pt_dict_with_reward)\n",
    "\n",
    "    # Combines the patients with and without rewards to update the patient dataset.\n",
    "    pillsy_updated_pt_dict = update_pt_dict(pt_dict_with_reward, pt_dict_without_reward)\n",
    "\n",
    "    send_rewards(rewards_to_send, client)"
   ]
  },
  {
   "cell_type": "code",
   "execution_count": null,
   "metadata": {
    "pycharm": {
     "name": "#%%\n"
    }
   },
   "outputs": [],
   "source": [
    "if start.lower() == \"y\":\n",
    "    print(\"Trial Initiation Confirmed. Reading in first set of RedCap patients.\")\n",
    "\n",
    "else:\n",
    "    print(\"Reading in any new RedCap patients.\")\n",
    "\n"
   ]
  },
  {
   "cell_type": "markdown",
   "metadata": {},
   "source": [
    "No matter if its the trial initiation or not, we process the new patients in the trial and call Personalizer\n",
    " to rank action features to find the correct text message to send today."
   ]
  },
  {
   "cell_type": "code",
   "execution_count": null,
   "metadata": {
    "pycharm": {
     "name": "#%%\n"
    }
   },
   "outputs": [],
   "source": [
    "redcap_file_path = input(\"RedCap File Path: \") # modify to just run based on todays new named dataseet\n",
    "redcap_data = import_redcap(redcap_file_path)\n",
    "unique_study_ids_list_redcap = get_redcap_study_ids(redcap_data)\n",
    "redcap_updated_pt_dict = update_patient_dict_redcap(unique_study_ids_list_redcap, redcap_data, pt_dict)\n",
    "final_pt_dict = {}\n",
    "\n",
    "for study_id, patient in final_pt_dict.items():\n",
    "    run_ranking(patient, client)\n",
    "    final_pt_dict[study_id] = patient\n",
    "\n",
    "# write run function to export csv of sms output\n",
    "export_post_rank_pickle(final_pt_dict)"
   ]
  },
  {
   "cell_type": "markdown",
   "metadata": {
    "pycharm": {
     "name": "#%% md\n"
    }
   },
   "source": [
    "To Do List:\n",
    "* General -\n",
    "    * Remove the weird option for if this is start or not, perhaps figure out a way to reduce human choice here\n",
    "    * Export of log files for rank & reward as pickles - do we want these as CSVs? = JULIE ANSWER - Yes we do\n",
    "    * Export of patient_dict as CSV as well as pickle\n",
    "    * Data processing - timezone timestamp issue for datetime data from Pillsy\n",
    "    * Automate file import methods based on naming convention of:\n",
    "        * date_recap.csv\n",
    "        * date_pillsy.csv\n",
    "        * date_patient_dict.pickle\n",
    "* Pillsy -\n",
    "    * [x] Lily-DONE YAY- Pseudo code taken event decisions for Joe to code up (did it before, but we made some changes to algorithm)\n",
    "    * [x] Lily-DONE YAY - Redo processing algorithm for taken events pseudo code handwritten in notes\n",
    "    * [x] Lily-DONE YAY - Fix timing of when this is run - i.e. subset to time frame\n",
    "    * [x] Lily-DONE YAY Need variable to store the last time this was run - i.e. should this be user entered or stored?\n",
    "    * [x] Lily-DONE YAY  i.e. not from time of last run to current time; will be from last run to defined time of 'early today'\n",
    "    * [ ] Another question sent to Elad/Marco/Julie again; JULIE ANSWER algorithm runs from last run to 12am anytime 12am to current time = early use - Need to define what early today is i.e. 2am onwards? - I don't think we defined this yet actually\n",
    "    * [x] Lily-DONE-YAY- Account for if patient already took med that day\n",
    "        * AKA run above algorithm on data occurring morning of for early_rx_use_before_sms to be true if adherence = 1 already\n",
    "* RedCap -\n",
    "    * [ ] Need to work on import method\n",
    "    * Need to properly encode categorical variables as strings rather than numeric\n",
    "    * JULIE ANSWER YES (only update for Pillsy Rx and Num 2x meds) - Do we need to account for the RedCap data changing for a patient that is already receiving text messages? i.e. updates to baseline variables coming from red_cap?\n",
    "* SMS -\n",
    "    * For each patient:\n",
    "        * Use 1,0's from ranking that are stored in \"FEATURE\"_sms as 0,1 (2 for neg framing) to compute SMS choice\n",
    "        * Store sms choice by factor_set and text_number\n",
    "        * Retrieve String of that chosen text_number and replace X with total_dichot_adherence_past7\n",
    "    * Export file once all patients are updated\n",
    "* Ranking/Context Features -\n",
    "    * How to json dump without null values because we don't want these in the model\n",
    "    * Double checking json dump is working appropriately and looks correct\n",
    "    * How to encode the rank decisions each stepwise rank call to personalizer\n",
    "        * How to encode framing = pos in the history rank call\n",
    "        * i.e. do we want this as a namespace or is it okay as a free standing variable in the json features list\n",
    "* Add ons -\n",
    "    * Making this more user friendly than a Jupyter Notebook / Command Line\n",
    "    * Hooks into Pillsy/RedCap for data retrieval\n",
    "    * Hooks into SMS Platform to automate text sending"
   ]
  },
  {
   "cell_type": "code",
   "execution_count": null,
   "metadata": {
    "pycharm": {
     "name": "#%%\n"
    }
   },
   "outputs": [],
   "source": [
    "\n",
    "\n"
   ]
  }
 ],
 "metadata": {
  "kernelspec": {
   "display_name": "Python 3",
   "language": "python",
   "name": "python3"
  },
  "language_info": {
   "codemirror_mode": {
    "name": "ipython",
    "version": 3
   },
   "file_extension": ".py",
   "mimetype": "text/x-python",
   "name": "python",
   "nbconvert_exporter": "python",
   "pygments_lexer": "ipython3",
   "version": "3.7.4"
  }
 },
 "nbformat": 4,
 "nbformat_minor": 1
}