{
 "cells": [
  {
   "cell_type": "markdown",
   "source": [
    "Reinforcement Learning for SMS Messaging to Improve Medication Adherence - Roybal"
   ],
   "metadata": {
    "collapsed": false
   }
  },
  {
   "cell_type": "markdown",
   "source": [
    "Import necessary packages"
   ],
   "metadata": {
    "collapsed": false
   }
  },
  {
   "cell_type": "code",
   "execution_count": 1,
   "metadata": {
    "collapsed": true
   },
   "outputs": [],
   "source": [
    "import sys\n",
    "import time\n",
    "from azure.cognitiveservices.personalizer import PersonalizerClient\n",
    "from azure.cognitiveservices.personalizer.models import RankRequest\n",
    "from msrest.authentication import CognitiveServicesCredentials\n",
    "import pandas as pd\n",
    "import numpy as np\n",
    "import math\n",
    "import time\n",
    "from datetime import datetime\n",
    "from collections import Counter\n",
    "import string\n",
    "import pickle\n",
    "import json"
   ]
  },
  {
   "cell_type": "markdown",
   "source": [
    "Imports from Local Files"
   ],
   "metadata": {
    "collapsed": false,
    "pycharm": {
     "name": "#%% md\n"
    }
   }
  },
  {
   "cell_type": "code",
   "execution_count": null,
   "outputs": [],
   "source": [
    "from preprocessing.pillsy import import_Pillsy\n",
    "from preprocessing.pillsy import process_Pillsy\n",
    "from preprocessing.pt_dict import load_dict_pickle\n",
    "from preprocessing.pillsy import get_reward_update"
   ],
   "metadata": {
    "collapsed": false,
    "pycharm": {
     "name": "#%%\n"
    }
   }
  },
  {
   "cell_type": "markdown",
   "source": [
    "Start program"
   ],
   "metadata": {
    "collapsed": false,
    "pycharm": {
     "name": "#%% md\n"
    }
   }
  },
  {
   "cell_type": "code",
   "execution_count": null,
   "outputs": [],
   "source": [
    "start_time = time.time()\n",
    "\n",
    "start = input(\"Trial Initiation? Y/N: \")\n",
    "\n",
    "if start == \"N\":\n",
    "    pt_dict_file_path = input(\"Patient Data File Path: \")\n",
    "    pt_dict = load_dict_pickle(pt_dict_file_path)\n",
    "    new_pillsy_filepath = input(\"Pillsy Data File Path: \")\n",
    "    new_pillsy_data = import_Pillsy(new_pillsy_filepath)\n",
    "\n",
    "    # For loop to iterate through patient list and pillsy data to update adherence from yesterday\n",
    "    updated_pt_dict = process_Pillsy(new_pillsy_data, pt_dict)\n",
    "    # Patient dictionary to update with Pillsy Data\n",
    "    # Using this updated Pillsy-Patient data, we send rewards to Personalizer\n",
    "    rewards_to_send = get_reward_update(updated_pt_dict)\n",
    "\n",
    "\n"
   ],
   "metadata": {
    "collapsed": false,
    "pycharm": {
     "name": "#%%\n"
    }
   }
  },
  {
   "cell_type": "markdown",
   "source": [
    "Example Inputs\n",
    "\n",
    "* MAC:  /Users/lilybessette/Dropbox (Partners HealthCare)/SHARED -- REINFORCEMENT LEARNING/Pillsy/PILLSY_Full Sample_CF.csv\n",
    "\n",
    "* PC:   C:\\Users\\lg436\\Dropbox (Partners HealthCare)\\SHARED -- REINFORCEMENT LEARNING\\Pillsy\\PILLSY_Full Sample_CF.csv"
   ],
   "metadata": {
    "collapsed": false,
    "pycharm": {
     "name": "#%% md\n"
    }
   }
  },
  {
   "cell_type": "code",
   "execution_count": null,
   "outputs": [],
   "source": [
    "if start == \"Y\":\n",
    "    redcap_file_path = input(\"RedCap File Path: \")\n",
    "    # Example\n",
    "    #MAC:   /Users/lilybessette/Dropbox (Partners HealthCare)/SHARED -- REINFORCEMENT LEARNING/RedCap/Sample REDCap Data_11-11-20.csv\n",
    "    #PC:    C:\\Users\\lg436\\Dropbox (Partners HealthCare)\\SHARED -- REINFORCEMENT LEARNING\\RedCap\\Sample REDCap Data_11-11-20.csv\n",
    "\n",
    "    redcap_data = import_redcap(redcap_file_path)"
   ],
   "metadata": {
    "collapsed": false,
    "pycharm": {
     "name": "#%%\n"
    }
   }
  },
  {
   "cell_type": "markdown",
   "source": [
    "\n",
    "\n"
   ],
   "metadata": {
    "collapsed": false
   }
  },
  {
   "cell_type": "code",
   "execution_count": null,
   "outputs": [],
   "source": [
    "    personalizer_key = input(\"ENTER PERSONALIZER KEY: \\n\")\n",
    "    # Replace <your-resource-name>: https://<your-resource-name>.cognitiveservices.azure.com\n",
    "    personalizer_endpoint = input(\"ENTER PERSONALIZER ENDPOINT: \\n\")\n",
    "    # Instantiate a Personalizer client\n",
    "    client = PersonalizerClient(personalizer_endpoint, CognitiveServicesCredentials(personalizer_key))\n",
    "\n",
    "    runRanking(patient)"
   ],
   "metadata": {
    "collapsed": false,
    "pycharm": {
     "name": "#%%\n"
    }
   }
  },
  {
   "cell_type": "code",
   "execution_count": null,
   "outputs": [],
   "source": [],
   "metadata": {
    "collapsed": false,
    "pycharm": {
     "name": "#%%\n"
    }
   }
  },
  {
   "cell_type": "code",
   "execution_count": null,
   "outputs": [],
   "source": [
    "\n",
    "\n"
   ],
   "metadata": {
    "collapsed": false,
    "pycharm": {
     "name": "#%%\n"
    }
   }
  }
 ],
 "metadata": {
  "kernelspec": {
   "display_name": "Python 3",
   "language": "python",
   "name": "python3"
  },
  "language_info": {
   "codemirror_mode": {
    "name": "ipython",
    "version": 2
   },
   "file_extension": ".py",
   "mimetype": "text/x-python",
   "name": "python",
   "nbconvert_exporter": "python",
   "pygments_lexer": "ipython2",
   "version": "2.7.6"
  }
 },
 "nbformat": 4,
 "nbformat_minor": 0
}