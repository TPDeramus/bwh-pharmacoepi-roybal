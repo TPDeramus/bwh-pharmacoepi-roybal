{
 "cells": [
  {
   "cell_type": "markdown",
   "metadata": {},
   "source": [
    "Reinforcement Learning for SMS Messaging to Improve Medication Adherence - Roybal"
   ]
  },
  {
   "cell_type": "markdown",
   "metadata": {},
   "source": [
    "Import necessary packages"
   ]
  },
  {
   "cell_type": "code",
   "execution_count": 9,
   "metadata": {},
   "outputs": [],
   "source": [
    "import sys\n",
    "import time\n",
    "from azure.cognitiveservices.personalizer import PersonalizerClient\n",
    "from azure.cognitiveservices.personalizer.models import RankRequest\n",
    "from msrest.authentication import CognitiveServicesCredentials\n",
    "import pandas as pd\n",
    "import numpy as np\n",
    "import math\n",
    "import time\n",
    "from datetime import datetime\n",
    "from collections import Counter\n",
    "import string\n",
    "import pickle\n",
    "import json"
   ]
  },
  {
   "cell_type": "markdown",
   "metadata": {
    "pycharm": {
     "name": "#%% md\n"
    }
   },
   "source": [
    "Imports from Local Python Code Files"
   ]
  },
  {
   "cell_type": "code",
   "execution_count": 15,
   "metadata": {
    "pycharm": {
     "name": "#%%\n"
    }
   },
   "outputs": [
    {
     "ename": "ImportError",
     "evalue": "cannot import name 'write_sms_history' from 'output.data_output_functions' (/Users/lilybessette/BWH_DoPE/bwh-pharmacoepi-roybal/output/data_output_functions.py)",
     "output_type": "error",
     "traceback": [
      "\u001B[0;31m---------------------------------------------------------------------------\u001B[0m",
      "\u001B[0;31mImportError\u001B[0m                               Traceback (most recent call last)",
      "\u001B[0;32m<ipython-input-15-d4a0f9e04212>\u001B[0m in \u001B[0;36m<module>\u001B[0;34m\u001B[0m\n\u001B[1;32m      4\u001B[0m \u001B[0;32mfrom\u001B[0m \u001B[0mrewarding\u001B[0m\u001B[0;34m.\u001B[0m\u001B[0mdriverReward\u001B[0m \u001B[0;32mimport\u001B[0m \u001B[0msend_rewards\u001B[0m\u001B[0;34m\u001B[0m\u001B[0;34m\u001B[0m\u001B[0m\n\u001B[1;32m      5\u001B[0m \u001B[0;32mfrom\u001B[0m \u001B[0mpreprocessing\u001B[0m\u001B[0;34m.\u001B[0m\u001B[0mredcap\u001B[0m \u001B[0;32mimport\u001B[0m \u001B[0mupdate_patient_dict_redcap\u001B[0m\u001B[0;34m\u001B[0m\u001B[0;34m\u001B[0m\u001B[0m\n\u001B[0;32m----> 6\u001B[0;31m \u001B[0;32mfrom\u001B[0m \u001B[0moutput\u001B[0m\u001B[0;34m.\u001B[0m\u001B[0mdata_output_functions\u001B[0m \u001B[0;32mimport\u001B[0m \u001B[0mexport_pt_dict_pickle\u001B[0m\u001B[0;34m,\u001B[0m \u001B[0mwrite_sms_history\u001B[0m\u001B[0;34m,\u001B[0m \u001B[0mget_reward_update\u001B[0m\u001B[0;34m\u001B[0m\u001B[0;34m\u001B[0m\u001B[0m\n\u001B[0m\u001B[1;32m      7\u001B[0m \u001B[0;34m\u001B[0m\u001B[0m\n",
      "\u001B[0;31mImportError\u001B[0m: cannot import name 'write_sms_history' from 'output.data_output_functions' (/Users/lilybessette/BWH_DoPE/bwh-pharmacoepi-roybal/output/data_output_functions.py)"
     ]
    }
   ],
   "source": [
    "from input.data_input_functions import import_Pillsy, import_redcap, load_dict_pickle\n",
    "from preprocessing.pillsy import get_pillsy_study_ids, find_rewards, update_pt_dict\n",
    "from ranking.driverRank import run_ranking, write_sms_history\n",
    "from rewarding.driverReward import send_rewards, get_reward_update\n",
    "from preprocessing.redcap import update_patient_dict_redcap\n",
    "from output.data_output_functions import export_pt_dict_pickle, export_post_reward_pickle"
   ]
  },
  {
   "cell_type": "markdown",
   "metadata": {
    "pycharm": {
     "name": "#%% md\n"
    }
   },
   "source": [
    "Start Program Timer & Set Up MS Azure Personalizer Client"
   ]
  },
  {
   "cell_type": "code",
   "execution_count": 23,
   "metadata": {
    "pycharm": {
     "name": "#%%\n"
    }
   },
   "outputs": [],
   "source": [
    "start_time = time.time()"
   ]
  },
  {
   "cell_type": "markdown",
   "metadata": {},
   "source": [
    "Personalizer Keys:\n",
    "In the Microsoft Azure Dashboard, navigate to our bwh-pharmacoepi-roybal-dev-use2-cog Cognitive Services page.\n",
    " Within the Keys and Endpoint section, copy either Key 1 or Key 2 to enter as the Personalizer Key."
   ]
  },
  {
   "cell_type": "code",
   "execution_count": 24,
   "metadata": {
    "pycharm": {
     "name": "#%%\n"
    }
   },
   "outputs": [
    {
     "name": "stdout",
     "output_type": "stream",
     "text": [
      "ENTER PERSONALIZER KEY: \n",
      "1beebd47bed0488ea3641a27e7a66620\n"
     ]
    }
   ],
   "source": [
    "personalizer_key = input(\"ENTER PERSONALIZER KEY: \\n\")"
   ]
  },
  {
   "cell_type": "markdown",
   "metadata": {},
   "source": [
    "Personalizer Endpoint:\n",
    "https://bwh-pharmacoepi-roybal-dev-use2-cog.cognitiveservices.azure.com/"
   ]
  },
  {
   "cell_type": "code",
   "execution_count": 25,
   "metadata": {
    "pycharm": {
     "name": "#%%\n"
    }
   },
   "outputs": [
    {
     "name": "stdout",
     "output_type": "stream",
     "text": [
      "ENTER PERSONALIZER ENDPOINT: \n",
      "https://bwh-pharmacoepi-roybal-dev-use2-cog.cognitiveservices.azure.com/\n"
     ]
    }
   ],
   "source": [
    "personalizer_endpoint = input(\"ENTER PERSONALIZER ENDPOINT: \\n\")"
   ]
  },
  {
   "cell_type": "markdown",
   "metadata": {},
   "source": [
    "Instantiates PersonalizerClient"
   ]
  },
  {
   "cell_type": "code",
   "execution_count": 26,
   "metadata": {
    "pycharm": {
     "name": "#%%\n"
    }
   },
   "outputs": [],
   "source": [
    "client = PersonalizerClient(personalizer_endpoint, CognitiveServicesCredentials(personalizer_key))"
   ]
  },
  {
   "cell_type": "markdown",
   "metadata": {},
   "source": [
    "If we've already initiated the trial, we will have:\n",
    "* Pre-existing patient dataset in need of reward updates\n",
    "* Pillsy data from yesterday to determine reward\n",
    "If this is study initiation, this step will just load an empty patient dictionary and null pillsy dataset."
   ]
  },
  {
   "cell_type": "code",
   "execution_count": null,
   "outputs": [],
   "source": [
    "pt_dict = load_dict_pickle()\n",
    "new_pillsy_data = import_Pillsy()\n",
    "pillsy_updated_pt_dict = {}\n",
    "\n",
    "# Make sure pt_dict and new_pillsy_data aren't empty or null (i.e. for study initiation).\n",
    "if not pt_dict and not new_pillsy_data:\n",
    "# Extract list of study_id's in the Pillsy Data.\n",
    "    pillsy_study_ids_list = get_pillsy_study_ids(new_pillsy_data)\n",
    "# From Pillsy data, computes the Rewards to send to Personalizer for each patient's Rank calls from yesterday's run.\n",
    "    pt_dict_with_reward, pt_dict_without_reward = find_rewards(new_pillsy_data,pillsy_study_ids_list,pt_dict)\n",
    "# Using this updated Pillsy joined Patient data, we format the rewards to Personalizer into a dataframe\n",
    "    rewards_to_send = get_reward_update(pt_dict_with_reward)\n",
    "    send_rewards(rewards_to_send, client)\n",
    "\n",
    "# Combines the patients with and without rewards to update the patient dataset for the next step of ranking for today's SMS message.\n",
    "    pillsy_updated_pt_dict = update_pt_dict(pt_dict_with_reward, pt_dict_without_reward)\n",
    "    export_post_reward_pickle(pillsy_updated_pt_dict)"
   ],
   "metadata": {
    "collapsed": false,
    "pycharm": {
     "name": "#%%\n"
    }
   }
  },
  {
   "cell_type": "markdown",
   "metadata": {},
   "source": [
    "Call Personalizer to rank action features to find the correct text message to send today."
   ]
  },
  {
   "cell_type": "code",
   "execution_count": null,
   "metadata": {
    "pycharm": {
     "name": "#%%\n"
    }
   },
   "outputs": [],
   "source": [
    "redcap_data = import_redcap()\n",
    "redcap_updated_pt_dict = update_patient_dict_redcap(redcap_data, pillsy_updated_pt_dict)\n",
    "final_pt_dict = {}\n",
    "\n",
    "for study_id, patient in final_pt_dict.items():\n",
    "    ranked_patient = run_ranking(patient, client)\n",
    "    final_pt_dict[study_id] = patient\n",
    "\n",
    "write_sms_history(final_pt_dict)\n",
    "export_pt_dict_pickle(final_pt_dict)"
   ]
  },
  {
   "cell_type": "markdown",
   "metadata": {
    "pycharm": {
     "name": "#%% md\n"
    }
   },
   "source": [
    "To Do List:\n",
    "* General -\n",
    "    * [x] Lily-DONE - Remove the weird option for if this is start or not, perhaps figure out a way to reduce human choice here\n",
    "    * [ ] Lily-STARTED - JOE TODO - Export of log files for rank & reward as pickles - do we want these as CSVs? = JULIE ANSWER - Yes we do\n",
    "    * [ ] Lily-pickle,done, need converter like in write_sms_history or get_reward_update- JOE TODO - Export of patient_dict as CSV as well as pickle\n",
    "    * Data processing - timezone timestamp issue for datetime data from Pillsy\n",
    "    * Automate file import methods based on naming convention of:\n",
    "        * [x] Lily-DONE (from Joe's research) YAY- YYYY-MM-DD_recap.csv\n",
    "        * [x] Lily-DONE (from Joe's research) YAY- YYYY-MM-DD_pillsy.csv\n",
    "        * [x] Lily-DONE (from Joe's research) YAY- YYYY-MM-DD_patient_dict.pickle\n",
    "* Pillsy -\n",
    "    * [x] Lily-DONE YAY- Pseudo code taken event decisions for Joe to code up (did it before, but we made some changes to algorithm)\n",
    "    * [x] Lily-DONE YAY - Redo processing algorithm for taken events pseudo code handwritten in notes\n",
    "    * [x] Lily-DONE YAY - Fix timing of when this is run - i.e. subset to time frame\n",
    "    * [x] Lily-DONE YAY Need variable to store the last time this was run - i.e. should this be user entered or stored?\n",
    "    * [x] Lily-DONE YAY  i.e. not from time of last run to current time; will be from last run to defined time of 'early today'\n",
    "    * [ ] Another question sent to Elad/Marco/Julie again; JULIE ANSWER algorithm runs from last run to 12am anytime 12am to current time = early use - Need to define what early today is i.e. 2am onwards? - I don't think we defined this yet actually\n",
    "    * [x] Lily-DONE-YAY- Account for if patient already took med that day\n",
    "        * AKA run above algorithm on data occurring morning of for early_rx_use_before_sms to be true if adherence = 1 already\n",
    "* RedCap -\n",
    "    * [x] Lily-DONE YAY- Need to work on import method\n",
    "    * [ ] Lily-Started- Need to properly encode categorical variables as strings rather than numeric - waiting for confirmation that it is finalized on Julie/constance/ellen side\n",
    "    * [ ] Lily-SetUp Complete under this assumption- Need to make sure they can give me a censoring variable from redcap\n",
    "    * [x] Lily-DONE YAY- JULIE ANSWER YES (only update for Pillsy Rx and Num 2x meds) - Do we need to account for the RedCap data changing for a patient that is already receiving text messages? i.e. updates to baseline variables coming from red_cap?\n",
    "* SMS -\n",
    "    * For each patient:\n",
    "        * [x] Joe-DONE YAY-Use 1,0's from ranking that are stored in \"FEATURE\"_sms as 0,1 (2 for neg framing) to compute SMS choice\n",
    "        * [x] Lily-DONE YAY- Store sms choice by factor_set and text_number\n",
    "        * [x] Joe-DONE YAY- Retrieve String of that chosen text_number and replace X with total_dichot_adherence_past7\n",
    "    * [x] Lily-DONE YAY- Export file once all patients are updated\n",
    "* Ranking/Context Features -\n",
    "    * [ ] JOE TODO - How to json dump without null values because we don't want these in the model\n",
    "    * [ ] JOE TODO - Double checking json dump is working appropriately and looks correct\n",
    "    * [ ] Lily/Joe TODO, but kind of done need to just check formatting in general for context features -  How to encode the rank decisions each stepwise rank call to personalizer\n",
    "        * ALLSET, IGNORE - Example - How to encode framing = pos in the history rank call\n",
    "        * [x] doesn't need to be in its own namespace -  i.e. do we want this as a namespace or is it okay as a free standing variable in the json features list\n",
    "* Executability by RA / User friendliness\n",
    "    * [x] - Lily done by using Jupyter notebook - Making this more user friendly than a  Command Line\n",
    "    * [ ] - JOE TODO / help brainstorm - make jupyter notebook pretty and write a how to document for new non CS person to be able to execute this from Jupyter notebook\n",
    "    * [ ] - JOE TODO / help brainstorm - Making this more user friendly than a Jupyter Notebook - to do by doing a main.py executable bash script\n",
    "    * [ ] - JOE TODO / help brainstorm - Hooks into Pillsy/RedCap for data retrieval - need check in with constance for pillsy and ellen for redcap\n",
    "    * [ ] - JOE TODO / help brainstorm - (probably not feasible) Hooks into SMS Platform to automate text sending - need check in with constance\n",
    "    * [ ] - JOE TODO / help brainstorm - how to handle the definite 1 human entered variable of personalizer key - file to direct to or? - maybe as marco/elad\n",
    "    * [ ] - Lily/JOE TODO / help - try to break this code in any way possible\n",
    "    * [ ] - Lily/JOE TODO / help - debug, unit testing\n",
    "    * [ ] - Lily/JOE TODO / help - run it fully several times\n",
    "\n",
    "\n"
   ]
  }
 ],
 "metadata": {
  "kernelspec": {
   "display_name": "Python 3",
   "language": "python",
   "name": "python3"
  },
  "language_info": {
   "codemirror_mode": {
    "name": "ipython",
    "version": 3
   },
   "file_extension": ".py",
   "mimetype": "text/x-python",
   "name": "python",
   "nbconvert_exporter": "python",
   "pygments_lexer": "ipython3",
   "version": "3.7.4"
  }
 },
 "nbformat": 4,
 "nbformat_minor": 1
}