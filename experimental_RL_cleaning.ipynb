{
 "cells": [
  {
   "cell_type": "markdown",
   "metadata": {},
   "source": [
    "1) Load the libraries necessary for data cleaning"
   ]
  },
  {
   "cell_type": "code",
   "execution_count": 14,
   "metadata": {},
   "outputs": [],
   "source": [
    "import datetime, json, os, time, uuid, random\n",
    "import pandas as pd\n",
    "from pandas import ExcelWriter\n",
    "import numpy as np\n",
    "import janitor\n",
    "from janitor import clean_names, remove_empty\n",
    "\n",
    "from azure.cognitiveservices.personalizer import PersonalizerClient\n",
    "from azure.cognitiveservices.personalizer.models import RankableAction, RewardRequest, RankRequest\n",
    "from msrest.authentication import CognitiveServicesCredentials\n",
    "\n",
    "def remove_common(a, b):\n",
    "    common = set(a) & set(b)\n",
    "    a = [i for i in a if i not in common]\n",
    "    b = [i for i in b if i not in common]\n",
    "    return(a)\n",
    "\n",
    "def save_xls(dict_df, path):\n",
    "    \"\"\"\n",
    "    Save a dictionary of dataframes to an excel file, \n",
    "    with each dataframe as a separate page\n",
    "    \"\"\"\n",
    "\n",
    "    writer = ExcelWriter(path)\n",
    "    for key in dict_df.keys():\n",
    "        dict_df[key].to_excel(writer, sheet_name=key)\n",
    "\n",
    "    writer.close()"
   ]
  },
  {
   "cell_type": "markdown",
   "metadata": {},
   "source": [
    "2) API/Azure connection workflow will go below once preferred access method is clarified"
   ]
  },
  {
   "cell_type": "code",
   "execution_count": null,
   "metadata": {},
   "outputs": [],
   "source": []
  },
  {
   "cell_type": "markdown",
   "metadata": {},
   "source": [
    "3) Janitor calls to workflow will occur below once API grab method is established"
   ]
  },
  {
   "cell_type": "code",
   "execution_count": 27,
   "metadata": {},
   "outputs": [],
   "source": [
    "xls = pd.ExcelFile('/PHShome/tpd10/Gits/bwh-pharmacoepi-roybal/inputs/Sample_CSV_REINFORCE-EHR_2024-12-10.xlsx')\n",
    "\n",
    "xls.sheet_names\n",
    "\n",
    "variables_to_exclude = {\"Med Generic Name\", \"Study ID\", \"PAT_STUDY_ID\", \"Pat Study ID\", \"Pat_Study_ID\", \"Order Creator Study ID\", \"Authorizing Provider Study ID\", 'Discontinue Provider Study ID', \"Provider_Study_ID\", \"FU_CURRENT_ICD10_LIST\", \"ICD10_CODE\"}\n",
    "\n",
    "sheet_to_df_map = {}\n",
    "for name in range(len(xls.sheet_names)):\n",
    "    sheet_to_df_map[xls.sheet_names[name]] = xls.parse(xls.sheet_names[name])\n",
    "    varlist = sheet_to_df_map[xls.sheet_names[name]].dtypes[sheet_to_df_map[xls.sheet_names[name]].dtypes != 'int64'][sheet_to_df_map[xls.sheet_names[name]].dtypes != 'float64'][sheet_to_df_map[xls.sheet_names[name]].dtypes !='datetime64[ns]'].index.tolist()\n",
    "    varlist = remove_common(varlist,variables_to_exclude)\n",
    "    if len(varlist) > 0:\n",
    "        sheet_to_df_map[xls.sheet_names[name]] = sheet_to_df_map[xls.sheet_names[name]].clean_names(axis=None, column_names=varlist, remove_special=False)\n",
    "        if any(\"Med Generic Name\" in s for s in sheet_to_df_map[xls.sheet_names[name]]):\n",
    "            sheet_to_df_map[xls.sheet_names[name]][\"Med Generic Name\"] = sheet_to_df_map[xls.sheet_names[name]][\"Med Generic Name\"].str.lower().str.replace(' ','_')\n",
    "    else:\n",
    "        continue\n",
    "    \n",
    "    \n",
    "save_xls(dict_df = sheet_to_df_map, path = '/PHShome/tpd10/Gits/bwh-pharmacoepi-roybal/inputs/cleaned_example_Sample_CSV_REINFORCE-EHR_2024-12-10.xlsx')\n"
   ]
  },
  {
   "cell_type": "code",
   "execution_count": null,
   "metadata": {},
   "outputs": [],
   "source": []
  }
 ],
 "metadata": {
  "kernelspec": {
   "display_name": "bwh-pharmacoepi-roybal_env",
   "language": "python",
   "name": "python3"
  },
  "language_info": {
   "codemirror_mode": {
    "name": "ipython",
    "version": 3
   },
   "file_extension": ".py",
   "mimetype": "text/x-python",
   "name": "python",
   "nbconvert_exporter": "python",
   "pygments_lexer": "ipython3",
   "version": "3.13.1"
  }
 },
 "nbformat": 4,
 "nbformat_minor": 2
}
