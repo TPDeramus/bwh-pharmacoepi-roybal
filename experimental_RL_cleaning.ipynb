{
 "cells": [
  {
   "cell_type": "markdown",
   "metadata": {},
   "source": [
    "1) Load the libraries necessary for data cleaning"
   ]
  },
  {
   "cell_type": "code",
   "execution_count": 10,
   "metadata": {},
   "outputs": [],
   "source": [
    "import datetime, json, os, time, uuid, random\n",
    "import pandas as pd\n",
    "import numpy as np\n",
    "import janitor\n",
    "from janitor import clean_names, remove_empty\n",
    "\n",
    "from azure.cognitiveservices.personalizer import PersonalizerClient\n",
    "from azure.cognitiveservices.personalizer.models import RankableAction, RewardRequest, RankRequest\n",
    "from msrest.authentication import CognitiveServicesCredentials"
   ]
  },
  {
   "cell_type": "markdown",
   "metadata": {},
   "source": [
    "2) API/Azure connection workflow will go below once preferred access method is clarified"
   ]
  },
  {
   "cell_type": "code",
   "execution_count": null,
   "metadata": {},
   "outputs": [],
   "source": []
  },
  {
   "cell_type": "markdown",
   "metadata": {},
   "source": [
    "3) Janitor calls to workflow will occur below once API grab method is established"
   ]
  },
  {
   "cell_type": "code",
   "execution_count": 11,
   "metadata": {},
   "outputs": [
    {
     "ename": "SyntaxError",
     "evalue": "invalid syntax (247550444.py, line 22)",
     "output_type": "error",
     "traceback": [
      "\u001b[0;36m  Cell \u001b[0;32mIn[11], line 22\u001b[0;36m\u001b[0m\n\u001b[0;31m    if\u001b[0m\n\u001b[0m       ^\u001b[0m\n\u001b[0;31mSyntaxError\u001b[0m\u001b[0;31m:\u001b[0m invalid syntax\n"
     ]
    }
   ],
   "source": [
    "xls = pd.ExcelFile('/PHShome/tpd10/Gits/bwh-pharmacoepi-roybal/inputs/Sample_CSV_REINFORCE-EHR_2024-12-10.xlsx')\n",
    "\n",
    "xls.sheet_names\n",
    "\n",
    "#Janitor doesn't appear to understand lists out-of-the-box so it has to be converted to a dataframe to fix the names for the dict first\n",
    "df = pd.DataFrame({1:len(xls.sheet_names)}, columns = xls.sheet_names)\n",
    "\n",
    "df = df.clean_names()\n",
    "\n",
    "cleaned_list = list(df.columns)\n",
    "\n",
    "variables_to_exclude = {\"study_id\", \"pat_study_id\", \"order_creator_study_id\", \"authorizing_provider_study_id\", \"provider_study_id\", \"fu_current_icd10_list\", \"icd10_code\"}\n",
    "    \n",
    "sheet_to_df_map = {}\n",
    "for name in range(len(cleaned_list)):\n",
    "    sheet_to_df_map[cleaned_list[name]] = xls.parse(xls.sheet_names[name]).clean_names()\n",
    "\n",
    "sheet_to_df_map = {}\n",
    "for name in range(len(cleaned_list)):\n",
    "    sheet_to_df_map[cleaned_list[name]] = xls.parse(xls.sheet_names[name]).clean_names()\n",
    "    for columns in range(len(sheet_to_df_map[cleaned_list[name]].columns)):\n",
    "        if "
   ]
  },
  {
   "cell_type": "code",
   "execution_count": null,
   "metadata": {},
   "outputs": [],
   "source": [
    "type(sheet_to_df_map)"
   ]
  }
 ],
 "metadata": {
  "kernelspec": {
   "display_name": "bwh-pharmacoepi-roybal_env",
   "language": "python",
   "name": "python3"
  },
  "language_info": {
   "codemirror_mode": {
    "name": "ipython",
    "version": 3
   },
   "file_extension": ".py",
   "mimetype": "text/x-python",
   "name": "python",
   "nbconvert_exporter": "python",
   "pygments_lexer": "ipython3",
   "version": "3.13.1"
  }
 },
 "nbformat": 4,
 "nbformat_minor": 2
}
